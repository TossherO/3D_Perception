{
 "cells": [
  {
   "cell_type": "code",
   "execution_count": null,
   "metadata": {},
   "outputs": [],
   "source": [
    "import numpy as np\n",
    "import torch\n",
    "import mmengine"
   ]
  },
  {
   "cell_type": "code",
   "execution_count": null,
   "metadata": {},
   "outputs": [],
   "source": [
    "info_path = '../data/eth_train.pkl'\n",
    "info = mmengine.load(info_path)"
   ]
  },
  {
   "cell_type": "code",
   "execution_count": null,
   "metadata": {},
   "outputs": [],
   "source": [
    "len(info)"
   ]
  },
  {
   "cell_type": "code",
   "execution_count": 19,
   "metadata": {},
   "outputs": [
    {
     "name": "stdout",
     "output_type": "stream",
     "text": [
      "179\n",
      "253\n",
      "254\n",
      "5352\n",
      "5353\n",
      "5354\n",
      "5893\n",
      "5894\n",
      "5895\n",
      "5896\n",
      "5897\n",
      "5898\n",
      "13770\n",
      "13771\n",
      "13772\n",
      "13773\n",
      "13774\n",
      "13775\n",
      "13776\n",
      "13777\n",
      "13778\n",
      "14281\n",
      "14282\n",
      "14283\n",
      "14284\n",
      "14285\n",
      "14286\n",
      "14287\n",
      "44838\n",
      "44839\n",
      "44840\n",
      "44841\n",
      "44842\n"
     ]
    }
   ],
   "source": [
    "for i in range(len(info)):\n",
    "    if info[i][2].shape[0] == 0:\n",
    "        print(i)"
   ]
  },
  {
   "cell_type": "code",
   "execution_count": 10,
   "metadata": {},
   "outputs": [
    {
     "data": {
      "text/plain": [
       "array([[ 2.3 , -4.59],\n",
       "       [ 2.3 , -4.59],\n",
       "       [ 2.3 , -4.59],\n",
       "       [ 2.3 , -4.59],\n",
       "       [ 2.3 , -4.59],\n",
       "       [ 2.3 , -4.59],\n",
       "       [ 2.3 , -4.59],\n",
       "       [ 1.94, -4.12]], dtype=float32)"
      ]
     },
     "execution_count": 10,
     "metadata": {},
     "output_type": "execute_result"
    }
   ],
   "source": [
    "info[0][0]"
   ]
  },
  {
   "cell_type": "code",
   "execution_count": null,
   "metadata": {},
   "outputs": [
    {
     "data": {
      "text/plain": [
       "array([[ 1.53, -3.49],\n",
       "       [ 1.14, -2.99],\n",
       "       [ 0.84, -2.46],\n",
       "       [ 0.45, -2.  ],\n",
       "       [ 0.17, -1.52],\n",
       "       [-0.1 , -0.97],\n",
       "       [-0.34, -0.39],\n",
       "       [-0.55,  0.19],\n",
       "       [-0.76,  0.73],\n",
       "       [-0.94,  1.21],\n",
       "       [-1.19,  1.79],\n",
       "       [-1.46,  2.17]], dtype=float32)"
      ]
     },
     "execution_count": 11,
     "metadata": {},
     "output_type": "execute_result"
    }
   ],
   "source": [
    "info[0][1]"
   ]
  },
  {
   "cell_type": "code",
   "execution_count": 20,
   "metadata": {},
   "outputs": [
    {
     "data": {
      "text/plain": [
       "array([], dtype=float32)"
      ]
     },
     "execution_count": 20,
     "metadata": {},
     "output_type": "execute_result"
    }
   ],
   "source": [
    "info[179][2]"
   ]
  },
  {
   "cell_type": "code",
   "execution_count": null,
   "metadata": {},
   "outputs": [],
   "source": []
  }
 ],
 "metadata": {
  "kernelspec": {
   "display_name": "python310",
   "language": "python",
   "name": "python3"
  },
  "language_info": {
   "codemirror_mode": {
    "name": "ipython",
    "version": 3
   },
   "file_extension": ".py",
   "mimetype": "text/x-python",
   "name": "python",
   "nbconvert_exporter": "python",
   "pygments_lexer": "ipython3",
   "version": "3.10.14"
  }
 },
 "nbformat": 4,
 "nbformat_minor": 2
}
