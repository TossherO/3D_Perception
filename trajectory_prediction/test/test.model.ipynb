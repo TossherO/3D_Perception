{
 "cells": [
  {
   "cell_type": "code",
   "execution_count": 1,
   "metadata": {},
   "outputs": [
    {
     "name": "stderr",
     "output_type": "stream",
     "text": [
      "Matplotlib created a temporary config/cache directory at /tmp/matplotlib-a4hnk5g0 because the default path (/home/hello/.config/matplotlib) is not a writable directory; it is highly recommended to set the MPLCONFIGDIR environment variable to a writable directory, in particular to speed up the import of Matplotlib and to better support multiprocessing.\n"
     ]
    }
   ],
   "source": [
    "import os\n",
    "import time\n",
    "import pickle\n",
    "import importlib\n",
    "import numpy as np\n",
    "import torch\n",
    "import mmengine\n",
    "import matplotlib.pyplot as plt\n",
    "os.chdir('../')\n",
    "from model.model import TrajectoryModel"
   ]
  },
  {
   "cell_type": "code",
   "execution_count": 2,
   "metadata": {},
   "outputs": [],
   "source": [
    "dataset_path = './data/'\n",
    "dataset_name = 'CODA'\n",
    "hp_config = 'configs/coda.py'\n",
    "lr_scaling = False\n",
    "num_workers = 8\n",
    "obs_len = 8\n",
    "pred_len = 12\n",
    "gpu = 0\n",
    "data_scaling = [1.9, 0.4]\n",
    "checkpoint = './checkpoint/'"
   ]
  },
  {
   "cell_type": "code",
   "execution_count": 3,
   "metadata": {},
   "outputs": [
    {
     "data": {
      "text/plain": [
       "TrajectoryModel(\n",
       "  (embedding): Linear(in_features=40, out_features=128, bias=True)\n",
       "  (mode_encoder): Encoder(\n",
       "    (layers): ModuleList(\n",
       "      (0-1): 2 x TransformerBlock(\n",
       "        (attn): MultihHeadAttention(\n",
       "          (w_key): Linear(in_features=128, out_features=128, bias=True)\n",
       "          (w_query): Linear(in_features=128, out_features=128, bias=True)\n",
       "          (w_value): Linear(in_features=128, out_features=128, bias=True)\n",
       "          (fc_out): Linear(in_features=128, out_features=128, bias=True)\n",
       "          (dropout): Dropout(p=0.1, inplace=False)\n",
       "        )\n",
       "        (norm1): LayerNorm()\n",
       "        (norm2): LayerNorm()\n",
       "        (feed_forward): FeedForwardLayer(\n",
       "          (w1): Linear(in_features=128, out_features=256, bias=True)\n",
       "          (w2): Linear(in_features=256, out_features=128, bias=True)\n",
       "        )\n",
       "        (dropout): Dropout(p=0.1, inplace=False)\n",
       "      )\n",
       "    )\n",
       "    (dropout): Dropout(p=0.1, inplace=False)\n",
       "  )\n",
       "  (cls_head): Linear(in_features=128, out_features=1, bias=True)\n",
       "  (nei_embedding): Linear(in_features=16, out_features=128, bias=True)\n",
       "  (social_decoder): Decoder(\n",
       "    (layers): ModuleList(\n",
       "      (0): TransformerBlock(\n",
       "        (attn): MultihHeadAttention(\n",
       "          (w_key): Sequential(\n",
       "            (0): Linear(in_features=128, out_features=128, bias=True)\n",
       "            (1): ReLU()\n",
       "            (2): Linear(in_features=128, out_features=128, bias=True)\n",
       "          )\n",
       "          (w_query): Sequential(\n",
       "            (0): Linear(in_features=128, out_features=128, bias=True)\n",
       "            (1): ReLU()\n",
       "            (2): Linear(in_features=128, out_features=128, bias=True)\n",
       "          )\n",
       "          (w_value): Linear(in_features=128, out_features=128, bias=True)\n",
       "          (fc_out): Linear(in_features=128, out_features=128, bias=True)\n",
       "          (dropout): Dropout(p=0.1, inplace=False)\n",
       "        )\n",
       "        (norm1): LayerNorm()\n",
       "        (norm2): LayerNorm()\n",
       "        (feed_forward): FeedForwardLayer(\n",
       "          (w1): Linear(in_features=128, out_features=256, bias=True)\n",
       "          (w2): Linear(in_features=256, out_features=128, bias=True)\n",
       "        )\n",
       "        (dropout): Dropout(p=0.1, inplace=False)\n",
       "      )\n",
       "    )\n",
       "    (dropout): Dropout(p=0.1, inplace=False)\n",
       "  )\n",
       "  (reg_head): Linear(in_features=128, out_features=24, bias=True)\n",
       ")"
      ]
     },
     "execution_count": 3,
     "metadata": {},
     "output_type": "execute_result"
    }
   ],
   "source": [
    "track_results = mmengine.load('./data/CODA/coda_track_results.pkl')\n",
    "\n",
    "spec = importlib.util.spec_from_file_location(\"hp_config\", hp_config)\n",
    "hp_config = importlib.util.module_from_spec(spec)\n",
    "spec.loader.exec_module(hp_config)\n",
    "\n",
    "motion_modes_file = dataset_path + dataset_name + '_motion_modes.pkl'\n",
    "f = open(dataset_path + dataset_name + '_motion_modes.pkl', 'rb+')\n",
    "motion_modes = pickle.load(f)\n",
    "f.close()\n",
    "motion_modes = torch.tensor(motion_modes, dtype=torch.float32).cuda()\n",
    "\n",
    "model = TrajectoryModel(in_size=2, obs_len=obs_len, pred_len=pred_len, embed_size=hp_config.model_hidden_dim, \n",
    "            enc_num_layers=2, int_num_layers_list=[1,1], heads=4, forward_expansion=2)\n",
    "model.load_state_dict(torch.load(checkpoint + dataset_name + '/best.pth'))\n",
    "model = model.cuda()\n",
    "model.eval()"
   ]
  },
  {
   "cell_type": "code",
   "execution_count": 4,
   "metadata": {},
   "outputs": [],
   "source": [
    "pedestrian_label = 1\n",
    "all_tracks = []\n",
    "for sequence_results in track_results:\n",
    "    \n",
    "    tracks = {}\n",
    "    frame_len = len(sequence_results['data_list'][pedestrian_label])\n",
    "    for i, frame_result in enumerate(sequence_results['data_list'][pedestrian_label]):\n",
    "        track_bboxes = frame_result['track_bboxes']\n",
    "        track_ids = frame_result['track_ids']\n",
    "        track_states = frame_result['track_states']\n",
    "        for j in range(len(track_bboxes)):\n",
    "            tokens = track_states[j].split('_')\n",
    "            if tokens[0] == 'birth':\n",
    "                valid =  True\n",
    "            elif len(tokens) < 3:\n",
    "                valid =  False\n",
    "            elif tokens[0] == 'alive' and int(tokens[1]) == 1:\n",
    "                valid =  True\n",
    "            if tracks.get(track_ids[j]) is None:\n",
    "                tracks[track_ids[j]] = [[1e9, 1e9]] * (i + 6)\n",
    "            if valid:\n",
    "                tracks[track_ids[j]].append(track_bboxes[j][:2].tolist())\n",
    "            else:\n",
    "                tracks[track_ids[j]].append([1e9, 1e9])\n",
    "    \n",
    "    for i in tracks.keys():\n",
    "        lost_frame = -1\n",
    "        for j in range(7, len(tracks[i])):\n",
    "            if tracks[i][j][0] > 1e8 and tracks[i][j-1][0] < 1e8:\n",
    "                lost_frame = j\n",
    "            elif lost_frame != -1:\n",
    "                # 对于丢失的轨迹，进行线性插值\n",
    "                start = tracks[i][lost_frame-1]\n",
    "                end = tracks[i][j]\n",
    "                for l in range(lost_frame, j):\n",
    "                    tracks[i][l][0] = start[0] + (end[0] - start[0]) / (j - lost_frame) * (l - lost_frame)\n",
    "                    tracks[i][l][1] = start[1] + (end[1] - start[1]) / (j - lost_frame) * (l - lost_frame)\n",
    "                lost_frame = -1\n",
    "        if len(tracks[i]) < frame_len + 6:\n",
    "            tracks[i].extend([[1e9, 1e9]] * (frame_len + 6 - len(tracks[i])))\n",
    "            \n",
    "    all_tracks.append(tracks)"
   ]
  },
  {
   "cell_type": "code",
   "execution_count": 5,
   "metadata": {},
   "outputs": [],
   "source": [
    "def visual(obs, preds, scores, ids):\n",
    "    # obs [B T_obs 2]\n",
    "    # preds [B num_k T_pred 2]\n",
    "    # scores [B num_k]\n",
    "    # ids [B]\n",
    "    plt.clf()\n",
    "    for i in range(obs.shape[0]):\n",
    "        ob = obs[i].cpu().numpy()\n",
    "        pred = preds[i].cpu().numpy()\n",
    "        score = scores[i].cpu().numpy()\n",
    "        ob_x = ob[:, 0]\n",
    "        ob_y = ob[:, 1]\n",
    "        plt.plot(ob_x, ob_y, marker='o', color='green')\n",
    "        plt.text(ob_x[-1], ob_y[-1], str(ids[i]),  ha='center')\n",
    "       \n",
    "        for j in range(pred.shape[0]):\n",
    "            pred_x = np.concatenate((ob_x[-1:], pred[j][:, 0]))\n",
    "            pred_y = np.concatenate((ob_y[-1:], pred[j][:, 1]))\n",
    "            plt.plot(pred_x, pred_y, ls='-.', lw=0.5, color='red')\n",
    "            plt.scatter(pred_x[-1], pred_y[-1], marker='*', color='red', s=100)\n",
    "            plt.text(pred_x[-1], pred_y[-1], str(\"%.2f\" % score[j]),  ha='center')\n",
    "        \n",
    "    plt.tight_layout()\n",
    "    save_path = './fig/' + dataset_name\n",
    "    if not os.path.exists(save_path):\n",
    "        os.makedirs(save_path)\n",
    "    plt.savefig(save_path + '/' + str(time.time()) + '.png')\n",
    "    return"
   ]
  },
  {
   "cell_type": "code",
   "execution_count": 6,
   "metadata": {},
   "outputs": [],
   "source": [
    "def data_preprocess(tracks):\n",
    "\n",
    "    track_len, frame_len = tracks.shape[:2]\n",
    "    data_inputs = []\n",
    "    for j in range(7, frame_len):\n",
    "        obs = []\n",
    "        neis = []\n",
    "        n_neighbors = []\n",
    "        neis_mask = []\n",
    "        refs = []\n",
    "        rot_mats = []\n",
    "        ids = []\n",
    "        now_tracks = tracks[:, j-7:j+1]\n",
    "        for i in range(track_len):\n",
    "            if now_tracks[i][-1][0] < 1e8 and now_tracks[i][-2][0] < 1e8:\n",
    "                # 获取当前轨迹的观测值ob和邻居nei\n",
    "                ob = now_tracks[i].copy()\n",
    "                for k in range(6, -1, -1):\n",
    "                    if ob[k][0] > 1e8:\n",
    "                        ob[k] = ob[k+1]\n",
    "                nei = now_tracks[np.arange(track_len) != i]\n",
    "                dist_mask = nei[:, :, 0] > 1e8\n",
    "                dist = np.linalg.norm(ob.reshape(1, 8, 2) - nei, axis=-1)\n",
    "                dist[dist_mask] = 1e9\n",
    "                dist = np.min(dist, axis=-1)\n",
    "                nei = nei[dist < hp_config.dist_threshold]\n",
    "\n",
    "                # 平移变换\n",
    "                refs.append(ob[-1])\n",
    "                nei = nei - ob[-1]\n",
    "                ob = ob - ob[-1]\n",
    "\n",
    "                # 旋转变换\n",
    "                angle = np.arctan2(ob[0][1], ob[0][0])\n",
    "                rot_mat = np.array([[np.cos(angle), -np.sin(angle)], \n",
    "                                    [np.sin(angle), np.cos(angle)]], dtype=np.float32)\n",
    "                ob = np.matmul(ob, rot_mat)\n",
    "                if nei.shape[0] != 0:\n",
    "                    nei = np.matmul(nei, rot_mat)\n",
    "\n",
    "                obs.append(ob)\n",
    "                neis.append(nei)\n",
    "                n_neighbors.append(nei.shape[0])\n",
    "                rot_mats.append(rot_mat)\n",
    "                ids.append(track_ids[i])\n",
    "\n",
    "        # 对于邻居数不足的轨迹，进行padding\n",
    "        max_neighbors = max(n_neighbors)\n",
    "        if max_neighbors == 0:\n",
    "            max_neighbors = 1\n",
    "        neis_pad = []\n",
    "        for neighbor, n in zip(neis, n_neighbors):\n",
    "            neis_pad.append(np.pad(neighbor, ((0, max_neighbors-n), (0, 0),  (0, 0)), \"constant\"))\n",
    "            mask = np.zeros((max_neighbors, max_neighbors))\n",
    "            mask[:n, :n] = 1\n",
    "            neis_mask.append(mask)\n",
    "    \n",
    "        obs = torch.tensor(np.stack(obs), dtype=torch.float32).cuda()\n",
    "        neis = torch.tensor(np.stack(neis_pad), dtype=torch.float32).cuda()\n",
    "        neis_mask = torch.tensor(np.stack(neis_mask), dtype=torch.float32).cuda()\n",
    "        refs = torch.tensor(np.stack(refs), dtype=torch.float32).cuda()\n",
    "        rot_mats = torch.tensor(np.stack(rot_mats), dtype=torch.float32).cuda()\n",
    "        data_inputs.append((obs, neis, neis_mask, refs, rot_mats, ids))\n",
    "\n",
    "    return data_inputs"
   ]
  },
  {
   "cell_type": "code",
   "execution_count": null,
   "metadata": {},
   "outputs": [
    {
     "name": "stdout",
     "output_type": "stream",
     "text": [
      "0\n",
      "199 528\n"
     ]
    },
    {
     "data": {
      "image/png": "[encoded data removed]",
      "text/plain": [
       "<Figure size 640x480 with 1 Axes>"
      ]
     },
     "metadata": {},
     "output_type": "display_data"
    }
   ],
   "source": [
    "all_traj_pre_results = []\n",
    "for i in range(len(all_tracks)):\n",
    "    track_ids = list(all_tracks[i].keys())\n",
    "    tracks = np.array([all_tracks[i][k] for k in track_ids], dtype=np.float32)\n",
    "    print(i)\n",
    "    data_inputs = data_preprocess(tracks)\n",
    "    num_traj = 0\n",
    "    traj_pre_results = []\n",
    "    with torch.no_grad():\n",
    "        for j in range(len(data_inputs)):\n",
    "            obs, neis, neis_mask, refs, rot_mats, ids = data_inputs[j]\n",
    "            num_traj += obs.shape[0]\n",
    "            start = time.time()\n",
    "            preds, scores = model(obs, neis, motion_modes, neis_mask, None, test=True, num_k=3)\n",
    "            scores = torch.nn.functional.softmax(scores, dim=-1)\n",
    "            preds = preds.reshape(preds.shape[0], preds.shape[1], 12, 2)\n",
    "            rot_mats_T = rot_mats.transpose(1, 2)\n",
    "            obs_ori = torch.matmul(obs, rot_mats_T) + refs.unsqueeze(1)\n",
    "            preds_ori = torch.matmul(preds, rot_mats_T.unsqueeze(1)) + refs.unsqueeze(1).unsqueeze(2)\n",
    "            visual(obs_ori, preds_ori, scores, ids)\n",
    "            traj_pre_results.append({'track_ids': ids, 'obs':obs_ori.cpu().numpy(), 'preds': preds_ori.cpu().numpy(), 'scores': scores.cpu().numpy()})\n",
    "            if j == 100:\n",
    "                break\n",
    "    print(len(data_inputs), num_traj)\n",
    "    all_traj_pre_results.append({'token': track_results[i]['token'], 'data_list': traj_pre_results})\n",
    "    break"
   ]
  },
  {
   "cell_type": "code",
   "execution_count": 14,
   "metadata": {},
   "outputs": [
    {
     "data": {
      "text/plain": [
       "tensor([[[[ 0.7957, -1.3587],\n",
       "          [ 0.7298, -1.3163],\n",
       "          [ 0.6718, -1.2864],\n",
       "          [ 0.6187, -1.2589],\n",
       "          [ 0.4851, -1.2853],\n",
       "          [ 0.4070, -1.2712],\n",
       "          [ 0.3280, -1.2570],\n",
       "          [ 0.4364, -0.9971]]],\n",
       "\n",
       "\n",
       "        [[[-0.6839,  0.7264],\n",
       "          [-0.7635,  0.6877],\n",
       "          [-0.8444,  0.6483],\n",
       "          [-0.9186,  0.6122],\n",
       "          [-0.9203,  0.5609],\n",
       "          [-0.9415,  0.5248],\n",
       "          [-0.9840,  0.4498],\n",
       "          [-1.0149,  0.3932]]],\n",
       "\n",
       "\n",
       "        [[[ 0.0000,  0.0000],\n",
       "          [ 0.0000,  0.0000],\n",
       "          [ 0.0000,  0.0000],\n",
       "          [ 0.0000,  0.0000],\n",
       "          [ 0.0000,  0.0000],\n",
       "          [ 0.0000,  0.0000],\n",
       "          [ 0.0000,  0.0000],\n",
       "          [ 0.0000,  0.0000]]]], device='cuda:0')"
      ]
     },
     "execution_count": 14,
     "metadata": {},
     "output_type": "execute_result"
    }
   ],
   "source": [
    "neis"
   ]
  },
  {
   "cell_type": "code",
   "execution_count": 42,
   "metadata": {},
   "outputs": [
    {
     "data": {
      "text/plain": [
       "199"
      ]
     },
     "execution_count": 42,
     "metadata": {},
     "output_type": "execute_result"
    }
   ],
   "source": [
    "obs_ori, preds_ori, scores, ids"
   ]
  },
  {
   "cell_type": "code",
   "execution_count": 13,
   "metadata": {},
   "outputs": [
    {
     "data": {
      "text/plain": [
       "tensor([[9.9998e-01, 1.4315e-05, 8.6078e-06, 6.0097e-07, 2.3276e-07],\n",
       "        [9.9998e-01, 1.4317e-05, 8.6086e-06, 6.0103e-07, 2.3277e-07],\n",
       "        [9.9998e-01, 1.4520e-05, 8.7606e-06, 6.1525e-07, 2.4160e-07]],\n",
       "       device='cuda:0')"
      ]
     },
     "execution_count": 13,
     "metadata": {},
     "output_type": "execute_result"
    }
   ],
   "source": [
    "scores"
   ]
  },
  {
   "cell_type": "code",
   "execution_count": null,
   "metadata": {},
   "outputs": [],
   "source": []
  }
 ],
 "metadata": {
  "kernelspec": {
   "display_name": "python310",
   "language": "python",
   "name": "python3"
  },
  "language_info": {
   "codemirror_mode": {
    "name": "ipython",
    "version": 3
   },
   "file_extension": ".py",
   "mimetype": "text/x-python",
   "name": "python",
   "nbconvert_exporter": "python",
   "pygments_lexer": "ipython3",
   "version": "3.10.14"
  }
 },
 "nbformat": 4,
 "nbformat_minor": 2
}
