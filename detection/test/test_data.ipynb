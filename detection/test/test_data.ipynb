{
 "cells": [
  {
   "cell_type": "code",
   "execution_count": 1,
   "metadata": {},
   "outputs": [
    {
     "name": "stderr",
     "output_type": "stream",
     "text": [
      "Matplotlib created a temporary config/cache directory at /tmp/matplotlib-vt8syj77 because the default path (/home/hello/.config/matplotlib) is not a writable directory; it is highly recommended to set the MPLCONFIGDIR environment variable to a writable directory, in particular to speed up the import of Matplotlib and to better support multiprocessing.\n"
     ]
    }
   ],
   "source": [
    "import numpy as np\n",
    "import torch\n",
    "import mmengine\n",
    "from mmdet3d.structures import LiDARInstance3DBoxes"
   ]
  },
  {
   "cell_type": "code",
   "execution_count": 15,
   "metadata": {},
   "outputs": [],
   "source": [
    "# info_path = '../data/nuscenes/nuscenes_infos_train.pkl'\n",
    "info_path = '../data/CODA/coda_infos_val.pkl'\n",
    "# info_path = '../test/work_dirs/detection_results.pkl'\n",
    "info = mmengine.load(info_path)"
   ]
  },
  {
   "cell_type": "code",
   "execution_count": 12,
   "metadata": {},
   "outputs": [
    {
     "data": {
      "text/plain": [
       "dict_keys(['sample_idx', 'pre_bboxes', 'pre_labels', 'pre_scores'])"
      ]
     },
     "execution_count": 12,
     "metadata": {},
     "output_type": "execute_result"
    }
   ],
   "source": [
    "info.keys()"
   ]
  },
  {
   "cell_type": "code",
   "execution_count": 14,
   "metadata": {},
   "outputs": [
    {
     "data": {
      "text/plain": [
       "array([[ 8.7822247e+00, -1.1105194e+00, -4.5581961e-01,  1.0127645e+00,\n",
       "         7.7149779e-01,  1.6541657e+00,  2.7920138e-02],\n",
       "       [ 4.0178108e+00,  1.3444443e+00, -7.2432631e-01,  1.2494777e+00,\n",
       "         1.0411749e+00,  1.8735346e+00, -3.1302905e+00],\n",
       "       [-1.3226414e+00, -6.5435410e-02, -8.8374972e-01,  6.8995965e-01,\n",
       "         7.0420927e-01,  1.6291530e+00, -4.2840250e-02],\n",
       "       [-1.0327726e+01,  1.9955215e+00, -1.1654058e+00,  9.9925840e-01,\n",
       "         7.8190684e-01,  1.6514391e+00, -3.0467377e+00],\n",
       "       [ 6.8510590e+00, -8.5642395e+00, -8.2799816e-01,  1.2560598e+00,\n",
       "         1.0953188e+00,  1.8705397e+00, -2.7527504e+00],\n",
       "       [ 1.6808777e+01, -1.0247383e+00, -1.4880478e-01,  1.1772968e+00,\n",
       "         9.6578699e-01,  1.9188216e+00, -1.8803013e-02],\n",
       "       [-1.8951054e+01,  2.3980293e+00, -1.5141811e+00,  1.0095267e+00,\n",
       "         8.0558598e-01,  1.7133368e+00, -3.1023571e+00],\n",
       "       [-3.1954002e-01,  5.6252480e-01, -8.3895195e-01,  6.6365540e-01,\n",
       "         6.9590956e-01,  1.6145730e+00, -6.8885416e-02],\n",
       "       [-9.1939516e+00, -1.6852436e+01, -7.8232437e-01,  1.0327077e+00,\n",
       "         8.1993026e-01,  1.7889105e+00, -1.4951112e+00],\n",
       "       [ 6.2342949e+00, -9.6588955e+00, -8.3956194e-01,  1.0178579e+00,\n",
       "         8.3079290e-01,  1.7176871e+00, -1.8671405e+00],\n",
       "       [-6.0719461e+00, -1.9725149e+01, -8.1308967e-01,  1.0404963e+00,\n",
       "         8.0099243e-01,  1.7541028e+00,  3.1123304e+00],\n",
       "       [-6.2635098e+00, -1.9811138e+01, -6.9898808e-01,  1.0517800e+00,\n",
       "         8.1305891e-01,  1.7254474e+00,  3.1329651e+00],\n",
       "       [-1.6816620e+01, -2.0516434e+01, -1.0519478e+00,  4.8617549e+00,\n",
       "         2.0985146e+00,  1.8083733e+00, -3.0514951e+00],\n",
       "       [-1.8712482e+00, -1.2045403e+00, -8.9568800e-01,  1.1296496e+00,\n",
       "         8.5591674e-01,  1.6791135e+00, -5.7648957e-02],\n",
       "       [-2.9588127e-01,  5.5660248e-01, -8.0883366e-01,  6.6335851e-01,\n",
       "         6.8400025e-01,  1.5949711e+00, -7.8014396e-02],\n",
       "       [-9.2257643e+00, -1.6922991e+01, -7.7207720e-01,  1.0396738e+00,\n",
       "         8.4698087e-01,  1.7894819e+00, -1.5175928e+00],\n",
       "       [ 7.5602512e+00, -1.0908209e+01, -6.9367856e-01,  4.2201939e+00,\n",
       "         1.9734613e+00,  1.7844537e+00,  3.0491421e+00],\n",
       "       [-9.4245987e+00, -2.0739157e+01, -8.0334282e-01,  1.0795842e+00,\n",
       "         8.2315946e-01,  1.7724886e+00,  3.0750513e+00],\n",
       "       [-1.8712482e+00, -1.2045403e+00, -8.9568800e-01,  1.1296496e+00,\n",
       "         8.5591674e-01,  1.6791135e+00, -5.7648957e-02],\n",
       "       [ 6.7882938e+00, -2.8930473e+00, -5.6464726e-01,  1.7794729e+00,\n",
       "         7.3895532e-01,  1.7997772e+00, -3.0721285e+00],\n",
       "       [-2.0818893e+01, -1.4973717e+01, -1.2354181e+00,  1.0022106e+00,\n",
       "         7.9138458e-01,  1.7176507e+00,  1.3262235e-01],\n",
       "       [ 1.2423534e+01, -1.9994480e+01, -6.5272808e-01,  1.4116840e+00,\n",
       "         8.4422892e-01,  1.7223210e+00, -1.4036298e+00],\n",
       "       [-1.7143803e+01,  5.4217720e-01, -1.4209281e+00,  1.0209101e+00,\n",
       "         7.8647655e-01,  1.7245128e+00,  4.5499060e-02],\n",
       "       [ 6.2342949e+00, -9.6588955e+00, -8.3956194e-01,  1.0178579e+00,\n",
       "         8.3079290e-01,  1.7176871e+00, -1.8671405e+00],\n",
       "       [ 1.2423534e+01, -1.9994480e+01, -6.5272808e-01,  1.4116840e+00,\n",
       "         8.4422892e-01,  1.7223210e+00, -1.4036298e+00],\n",
       "       [-9.1939516e+00, -1.6852436e+01, -7.8232437e-01,  1.0327077e+00,\n",
       "         8.1993026e-01,  1.7889105e+00, -1.4951112e+00],\n",
       "       [-1.5679184e+01,  8.1004906e-01, -1.4288538e+00,  1.0164429e+00,\n",
       "         7.8485614e-01,  1.7362715e+00,  7.2892077e-02],\n",
       "       [ 8.7468567e+00, -2.0246275e+01, -5.0538623e-01,  1.0223260e+00,\n",
       "         8.0175024e-01,  1.7632811e+00, -3.0882256e+00],\n",
       "       [ 9.3107605e-01, -1.7419701e+00, -8.1908607e-01,  1.1797550e+00,\n",
       "         8.1270909e-01,  1.7505450e+00, -3.0722475e+00],\n",
       "       [ 9.3107605e-01, -1.7419701e+00, -8.1908607e-01,  1.1797550e+00,\n",
       "         8.1270909e-01,  1.7505450e+00, -3.0722475e+00],\n",
       "       [-1.3472214e+00, -7.0457458e-02, -8.8920182e-01,  7.3107672e-01,\n",
       "         7.1185178e-01,  1.6234611e+00, -5.1539071e-02],\n",
       "       [ 8.6515083e+00, -3.0869961e+00, -5.4037887e-01,  1.1743894e+00,\n",
       "         7.7718192e-01,  1.7494413e+00, -3.0833528e+00]], dtype=float32)"
      ]
     },
     "execution_count": 14,
     "metadata": {},
     "output_type": "execute_result"
    }
   ],
   "source": [
    "info['pre_bboxes'][10]"
   ]
  },
  {
   "cell_type": "code",
   "execution_count": null,
   "metadata": {},
   "outputs": [],
   "source": [
    "info['metainfo']"
   ]
  },
  {
   "cell_type": "code",
   "execution_count": 10,
   "metadata": {},
   "outputs": [
    {
     "data": {
      "text/plain": [
       "{'scene': '16',\n",
       " 'frame': 3284,\n",
       " 'sample_idx': 10,\n",
       " 'token': '16_3284',\n",
       " 'timestamp': '1675881597.623372',\n",
       " 'lidar_points': {'num_pts_feats': 4,\n",
       "  'lidar_path': '3d_comp/os1/16/3d_comp_os1_16_3284.bin'},\n",
       " 'images': {'cam0': {'img_path': '2d_rect/cam0/16/2d_rect_cam0_16_3284.png',\n",
       "   'cam2img': array([[765.90139253,   0.        , 631.19869232],\n",
       "          [  0.        , 765.90139253, 525.73421478],\n",
       "          [  0.        ,   0.        ,   1.        ]]),\n",
       "   'lidar2cam': array([[-0.02018827, -0.9997873 ,  0.00421773,  0.08023904],\n",
       "          [-0.13130881, -0.00153064, -0.99134033, -0.09986692],\n",
       "          [ 0.99113593, -0.02056727, -0.13124998, -0.02980426],\n",
       "          [ 0.        ,  0.        ,  0.        ,  1.        ]]),\n",
       "   'timestamp': '1675881597.623372'},\n",
       "  'cam1': {'img_path': '2d_rect/cam1/16/2d_rect_cam1_16_3284.png',\n",
       "   'cam2img': array([[765.90139253,   0.        , 631.19869232],\n",
       "          [  0.        , 765.90139253, 525.73421478],\n",
       "          [  0.        ,   0.        ,   1.        ]]),\n",
       "   'lidar2cam': array([[-0.02016493, -0.99979929,  0.00421891, -0.1149956 ],\n",
       "          [-0.13133506, -0.00152576, -0.99130907, -0.09986361],\n",
       "          [ 0.99118088, -0.02059131, -0.13122542, -0.02980063],\n",
       "          [ 0.        ,  0.        ,  0.        ,  1.        ]]),\n",
       "   'timestamp': '1675881597.623372'}},\n",
       " 'instances': [{'bbox_label_3d': 1,\n",
       "   'bbox_3d': [-10.310960463113979,\n",
       "    2.028716641360134,\n",
       "    -0.36027068188413436,\n",
       "    0.865833800091182,\n",
       "    0.7841317598317799,\n",
       "    1.5720882879954945,\n",
       "    -3.1106214688987],\n",
       "   'is_occluded': 'Unknown',\n",
       "   'instance_id': 'Pedestrian:6'},\n",
       "  {'bbox_label_3d': 1,\n",
       "   'bbox_3d': [3.996957694587053,\n",
       "    1.301308912428894,\n",
       "    0.29934823747993544,\n",
       "    1.1663049860561538,\n",
       "    1.1610492506270165,\n",
       "    1.7803059047734597,\n",
       "    3.11089167934125],\n",
       "   'is_occluded': 'None',\n",
       "   'instance_id': 'Pedestrian:8'},\n",
       "  {'bbox_label_3d': 1,\n",
       "   'bbox_3d': [6.293376322275947,\n",
       "    -9.764235622546977,\n",
       "    -0.08548870668069863,\n",
       "    1.1473814547873364,\n",
       "    0.7446483176668267,\n",
       "    1.3123044339059788,\n",
       "    -3.135643076743542],\n",
       "   'is_occluded': 'Unknown',\n",
       "   'instance_id': 'Pedestrian:9'},\n",
       "  {'bbox_label_3d': 1,\n",
       "   'bbox_3d': [6.834217870755204,\n",
       "    -8.767150305543638,\n",
       "    0.19027036380026185,\n",
       "    1.3612321374235963,\n",
       "    1.1147405872447391,\n",
       "    1.888957291625827,\n",
       "    3.019946741946961],\n",
       "   'is_occluded': 'Unknown',\n",
       "   'instance_id': 'Pedestrian:7'},\n",
       "  {'bbox_label_3d': 1,\n",
       "   'bbox_3d': [16.777833719368083,\n",
       "    -0.9934926050014639,\n",
       "    0.879349082022141,\n",
       "    0.9692379223045814,\n",
       "    1.1215288772006775,\n",
       "    1.8664889345138818,\n",
       "    -0.058137616572903915],\n",
       "   'is_occluded': 'None',\n",
       "   'instance_id': 'Pedestrian:2'},\n",
       "  {'bbox_label_3d': 1,\n",
       "   'bbox_3d': [8.735739163022842,\n",
       "    -1.1387837949317827,\n",
       "    0.39378683468352493,\n",
       "    0.9171232300906402,\n",
       "    0.9471889447480664,\n",
       "    1.5278948460105448,\n",
       "    -0.05418017820880865],\n",
       "   'is_occluded': 'None',\n",
       "   'instance_id': 'Pedestrian:3'},\n",
       "  {'bbox_label_3d': 1,\n",
       "   'bbox_3d': [-1.3725675755274622,\n",
       "    -0.0346900073092371,\n",
       "    -0.1063009149513543,\n",
       "    0.7581401660961139,\n",
       "    0.6264991482630206,\n",
       "    1.5288713667862344,\n",
       "    0.04553685803984681],\n",
       "   'is_occluded': 'Unknown',\n",
       "   'instance_id': 'Pedestrian:28'},\n",
       "  {'bbox_label_3d': 1,\n",
       "   'bbox_3d': [-0.31705800310319177,\n",
       "    0.5889318109350512,\n",
       "    0.03744031243996471,\n",
       "    0.9272021092085914,\n",
       "    0.8750993348350715,\n",
       "    1.7782740067786178,\n",
       "    0.026657536143599427],\n",
       "   'is_occluded': 'Unknown',\n",
       "   'instance_id': 'Pedestrian:27'},\n",
       "  {'bbox_label_3d': 1,\n",
       "   'bbox_3d': [-18.991654986516167,\n",
       "    2.365256295287864,\n",
       "    -0.5958315181684366,\n",
       "    0.9465820978499786,\n",
       "    0.880755608109026,\n",
       "    1.5989570275953606,\n",
       "    3.0628900389467573],\n",
       "   'is_occluded': 'Unknown',\n",
       "   'instance_id': 'Pedestrian:29'}],\n",
       " 'ego2global': array([[ 9.99968722e-01, -4.98317883e-03,  6.14194500e-03,\n",
       "          3.87728090e+01],\n",
       "        [ 5.22273188e-03,  9.99200993e-01, -3.96244660e-02,\n",
       "          9.32123360e+01],\n",
       "        [-5.93958175e-03,  3.96553044e-02,  9.99195766e-01,\n",
       "          8.12952000e-01],\n",
       "        [ 0.00000000e+00,  0.00000000e+00,  0.00000000e+00,\n",
       "          1.00000000e+00]])}"
      ]
     },
     "execution_count": 10,
     "metadata": {},
     "output_type": "execute_result"
    }
   ],
   "source": [
    "info['data_list'][10]"
   ]
  },
  {
   "cell_type": "code",
   "execution_count": 16,
   "metadata": {},
   "outputs": [
    {
     "data": {
      "text/plain": [
       "[{'bbox_label_3d': 1,\n",
       "  'bbox_3d': [-10.310960463113979,\n",
       "   2.028716641360134,\n",
       "   -0.36027068188413436,\n",
       "   0.865833800091182,\n",
       "   0.7841317598317799,\n",
       "   1.5720882879954945,\n",
       "   -3.1106214688987],\n",
       "  'is_occluded': 'Unknown',\n",
       "  'instance_id': 'Pedestrian:6'},\n",
       " {'bbox_label_3d': 1,\n",
       "  'bbox_3d': [3.996957694587053,\n",
       "   1.301308912428894,\n",
       "   0.29934823747993544,\n",
       "   1.1663049860561538,\n",
       "   1.1610492506270165,\n",
       "   1.7803059047734597,\n",
       "   3.11089167934125],\n",
       "  'is_occluded': 'None',\n",
       "  'instance_id': 'Pedestrian:8'},\n",
       " {'bbox_label_3d': 1,\n",
       "  'bbox_3d': [6.293376322275947,\n",
       "   -9.764235622546977,\n",
       "   -0.08548870668069863,\n",
       "   1.1473814547873364,\n",
       "   0.7446483176668267,\n",
       "   1.3123044339059788,\n",
       "   -3.135643076743542],\n",
       "  'is_occluded': 'Unknown',\n",
       "  'instance_id': 'Pedestrian:9'},\n",
       " {'bbox_label_3d': 1,\n",
       "  'bbox_3d': [6.834217870755204,\n",
       "   -8.767150305543638,\n",
       "   0.19027036380026185,\n",
       "   1.3612321374235963,\n",
       "   1.1147405872447391,\n",
       "   1.888957291625827,\n",
       "   3.019946741946961],\n",
       "  'is_occluded': 'Unknown',\n",
       "  'instance_id': 'Pedestrian:7'},\n",
       " {'bbox_label_3d': 1,\n",
       "  'bbox_3d': [16.777833719368083,\n",
       "   -0.9934926050014639,\n",
       "   0.879349082022141,\n",
       "   0.9692379223045814,\n",
       "   1.1215288772006775,\n",
       "   1.8664889345138818,\n",
       "   -0.058137616572903915],\n",
       "  'is_occluded': 'None',\n",
       "  'instance_id': 'Pedestrian:2'},\n",
       " {'bbox_label_3d': 1,\n",
       "  'bbox_3d': [8.735739163022842,\n",
       "   -1.1387837949317827,\n",
       "   0.39378683468352493,\n",
       "   0.9171232300906402,\n",
       "   0.9471889447480664,\n",
       "   1.5278948460105448,\n",
       "   -0.05418017820880865],\n",
       "  'is_occluded': 'None',\n",
       "  'instance_id': 'Pedestrian:3'},\n",
       " {'bbox_label_3d': 1,\n",
       "  'bbox_3d': [-1.3725675755274622,\n",
       "   -0.0346900073092371,\n",
       "   -0.1063009149513543,\n",
       "   0.7581401660961139,\n",
       "   0.6264991482630206,\n",
       "   1.5288713667862344,\n",
       "   0.04553685803984681],\n",
       "  'is_occluded': 'Unknown',\n",
       "  'instance_id': 'Pedestrian:28'},\n",
       " {'bbox_label_3d': 1,\n",
       "  'bbox_3d': [-0.31705800310319177,\n",
       "   0.5889318109350512,\n",
       "   0.03744031243996471,\n",
       "   0.9272021092085914,\n",
       "   0.8750993348350715,\n",
       "   1.7782740067786178,\n",
       "   0.026657536143599427],\n",
       "  'is_occluded': 'Unknown',\n",
       "  'instance_id': 'Pedestrian:27'},\n",
       " {'bbox_label_3d': 1,\n",
       "  'bbox_3d': [-18.991654986516167,\n",
       "   2.365256295287864,\n",
       "   -0.5958315181684366,\n",
       "   0.9465820978499786,\n",
       "   0.880755608109026,\n",
       "   1.5989570275953606,\n",
       "   3.0628900389467573],\n",
       "  'is_occluded': 'Unknown',\n",
       "  'instance_id': 'Pedestrian:29'}]"
      ]
     },
     "execution_count": 16,
     "metadata": {},
     "output_type": "execute_result"
    }
   ],
   "source": [
    "info['data_list'][10]['instances']"
   ]
  },
  {
   "cell_type": "code",
   "execution_count": 9,
   "metadata": {},
   "outputs": [
    {
     "data": {
      "text/plain": [
       "array([[ 3.59959949e-02,  9.99326181e-01,  7.17445643e-03,\n",
       "        -5.94616790e+01],\n",
       "       [-9.98627400e-01,  3.62422942e-02, -3.78128506e-02,\n",
       "         9.20977940e+01],\n",
       "       [-3.80473904e-02, -5.80349759e-03,  9.99259083e-01,\n",
       "        -2.22156000e-01],\n",
       "       [ 0.00000000e+00,  0.00000000e+00,  0.00000000e+00,\n",
       "         1.00000000e+00]])"
      ]
     },
     "execution_count": 9,
     "metadata": {},
     "output_type": "execute_result"
    }
   ],
   "source": [
    "info['data_list'][-1]['ego2global']"
   ]
  },
  {
   "cell_type": "code",
   "execution_count": 33,
   "metadata": {},
   "outputs": [
    {
     "data": {
      "text/plain": [
       "669"
      ]
     },
     "execution_count": 33,
     "metadata": {},
     "output_type": "execute_result"
    }
   ],
   "source": [
    "len(info['data_list'])"
   ]
  },
  {
   "cell_type": "code",
   "execution_count": null,
   "metadata": {},
   "outputs": [],
   "source": [
    "instance_range = [np.inf, np.inf, np.inf, -np.inf, -np.inf, -np.inf]\n",
    "corners = []\n",
    "for sample in info['data_list']:\n",
    "    bboxes = [instance['bbox_3d'] for instance in sample['instances']]\n",
    "    bboxes_3d = LiDARInstance3DBoxes(bboxes, origin=(0.5, 0.5, 0.5))\n",
    "    corner = bboxes_3d.corners.reshape(-1, 3).numpy()\n",
    "    corners.append(np.concatenate([corner.min(axis=0), corner.max(axis=0)]))\n",
    "    instance_range[0:3] = np.minimum(instance_range[0:3], np.min(corner, axis=0))\n",
    "    instance_range[3:6] = np.maximum(instance_range[3:6], np.max(corner, axis=0))"
   ]
  },
  {
   "cell_type": "code",
   "execution_count": 35,
   "metadata": {},
   "outputs": [
    {
     "name": "stdout",
     "output_type": "stream",
     "text": [
      "[1.2897008136073254, -14.807167961677425, 0.7826085844058754, 1.5710024460546472, 0.5062104877818576, 1.4985126459604317, -2.5560207238018675] 11_1724\n",
      "[0.5440399531439226, -14.754028340541325, 0.9222201899312568, 1.5710024460546472, 0.5062104877818576, 1.4985126459604317, -2.5575161200630796] 11_1732\n",
      "[-7.50805003011844, -14.776964601089539, 0.5612125550295457, 1.5710024460546472, 0.5062104877818576, 1.4985126459604317, -2.525803124517707] 11_1821\n",
      "[-9.900794527328486, -14.94275768909371, 0.46515919315427645, 1.5710024460546472, 0.5062104877818576, 1.4985126459604317, -2.5191553502491626] 11_1845\n",
      "[-11.301879007638831, -14.938330604309307, 0.33012557849707447, 1.5710024460546472, 0.5062104877818576, 1.4985126459604317, -2.515378948595139] 11_1860\n",
      "1034 [203, 468, 179, 77, 8, 5, 26, 26, 42]\n"
     ]
    }
   ],
   "source": [
    "sum = 0\n",
    "distribute = [0, 0, 0, 0, 0, 0, 0, 0, 0]\n",
    "for sample in info['data_list']:    \n",
    "    for instance in sample['instances']:\n",
    "        if instance['bbox_label_3d'] == 2:\n",
    "            sum += 1\n",
    "            if instance['bbox_3d'][5] < 1.0:\n",
    "                distribute[0] += 1\n",
    "            elif instance['bbox_3d'][5] < 1.1:\n",
    "                distribute[1] += 1\n",
    "            elif instance['bbox_3d'][5] < 1.2:\n",
    "                distribute[2] += 1\n",
    "            elif instance['bbox_3d'][5] < 1.3:\n",
    "                distribute[3] += 1\n",
    "            elif instance['bbox_3d'][5] < 1.4:\n",
    "                distribute[4] += 1\n",
    "            elif instance['bbox_3d'][5] < 1.5:\n",
    "                distribute[5] += 1\n",
    "                print(instance['bbox_3d'], sample['token'])\n",
    "            elif instance['bbox_3d'][5] < 1.6:\n",
    "                distribute[6] += 1\n",
    "            elif instance['bbox_3d'][5] < 1.7:\n",
    "                distribute[7] += 1\n",
    "            else:\n",
    "                distribute[8] += 1\n",
    "print(sum, distribute)"
   ]
  },
  {
   "cell_type": "code",
   "execution_count": null,
   "metadata": {},
   "outputs": [],
   "source": [
    "corners"
   ]
  },
  {
   "cell_type": "code",
   "execution_count": null,
   "metadata": {},
   "outputs": [],
   "source": [
    "instance_range"
   ]
  },
  {
   "cell_type": "code",
   "execution_count": null,
   "metadata": {},
   "outputs": [],
   "source": [
    "info['data_list'][10]['instances']"
   ]
  },
  {
   "cell_type": "code",
   "execution_count": null,
   "metadata": {},
   "outputs": [],
   "source": [
    "info['data_list'][0]['images']['cam1']"
   ]
  },
  {
   "cell_type": "code",
   "execution_count": null,
   "metadata": {},
   "outputs": [],
   "source": [
    "BBOX_CLASS_TO_ID = {\n",
    "    # Dynamic Classes\n",
    "    \"Car\"                   : 0,\n",
    "    \"Pedestrian\"            : 1,\n",
    "    \"Bike\"                  : 2,\n",
    "    \"Motorcycle\"            : 3,\n",
    "    \"Golf Cart\"             : 4, # Unused\n",
    "    \"Truck\"                 : 5, # Unused\n",
    "    \"Scooter\"               : 6,\n",
    "    # Static Classes\n",
    "    \"Tree\"                  : 7,\n",
    "    \"Traffic Sign\"          : 8,\n",
    "    \"Canopy\"                : 9,\n",
    "    \"Traffic Light\"         : 10,\n",
    "    \"Bike Rack\"             : 11,\n",
    "    \"Bollard\"               : 12,\n",
    "    \"Construction Barrier\"  : 13, # Unused\n",
    "    \"Parking Kiosk\"         : 14,\n",
    "    \"Mailbox\"               : 15,\n",
    "    \"Fire Hydrant\"          : 16,\n",
    "    # Static Class Mixed\n",
    "    \"Freestanding Plant\"    : 17,\n",
    "    \"Pole\"                  : 18,\n",
    "    \"Informational Sign\"    : 19,\n",
    "    \"Door\"                  : 20,\n",
    "    \"Fence\"                 : 21,\n",
    "    \"Railing\"               : 22,\n",
    "    \"Cone\"                  : 23,\n",
    "    \"Chair\"                 : 24,\n",
    "    \"Bench\"                 : 25,\n",
    "    \"Table\"                 : 26,\n",
    "    \"Trash Can\"             : 27,\n",
    "    \"Newspaper Dispenser\"   : 28,\n",
    "    # Static Classes Indoor\n",
    "    \"Room Label\"            : 29,\n",
    "    \"Stanchion\"             : 30,\n",
    "    \"Sanitizer Dispenser\"   : 31,\n",
    "    \"Condiment Dispenser\"   : 32,\n",
    "    \"Vending Machine\"       : 33,\n",
    "    \"Emergency Aid Kit\"     : 34,\n",
    "    \"Fire Extinguisher\"     : 35,\n",
    "    \"Computer\"              : 36,\n",
    "    \"Television\"            : 37, # unused\n",
    "    \"Other\"                 : 38,\n",
    "    \"Horse\"                 : 39,\n",
    "    # New Classes\n",
    "    \"Pickup Truck\"          : 40,\n",
    "    \"Delivery Truck\"        : 41,\n",
    "    \"Service Vehicle\"       : 42,\n",
    "    \"Utility Vehicle\"       : 43,\n",
    "    \"Fire Alarm\"            : 44,\n",
    "    \"ATM\"                   : 45,\n",
    "    \"Cart\"                  : 46,\n",
    "    \"Couch\"                 : 47,\n",
    "    \"Traffic Arm\"           : 48,\n",
    "    \"Wall Sign\"             : 49,\n",
    "    \"Floor Sign\"            : 50,\n",
    "    \"Door Switch\"           : 51,\n",
    "    \"Emergency Phone\"       : 52,\n",
    "    \"Dumpster\"              : 53,\n",
    "    \"Vacuum Cleaner\"        : 54, # unused\n",
    "    \"Segway\"                : 55,\n",
    "    \"Bus\"                   : 56,\n",
    "    \"Skateboard\"            : 57,\n",
    "    \"Water Fountain\"        : 58\n",
    "}"
   ]
  },
  {
   "cell_type": "code",
   "execution_count": null,
   "metadata": {},
   "outputs": [],
   "source": [
    "METAINFO = {\n",
    "        'classes':\n",
    "        tuple(BBOX_CLASS_TO_ID.keys()),\n",
    "        'version':\n",
    "        'v1.0-trainval',\n",
    "        'palette': [\n",
    "            (255, 158, 0),  # Orange\n",
    "            (255, 99, 71),  # Tomato\n",
    "            (255, 140, 0),  # Darkorange\n",
    "            (255, 127, 80),  # Coral\n",
    "            (233, 150, 70),  # Darksalmon\n",
    "            (220, 20, 60),  # Crimson\n",
    "            (255, 61, 99),  # Red\n",
    "            (0, 0, 230),  # Blue\n",
    "            (47, 79, 79),  # Darkslategrey\n",
    "            (112, 128, 144),  # Slategrey\n",
    "        ]\n",
    "    }"
   ]
  },
  {
   "cell_type": "code",
   "execution_count": null,
   "metadata": {},
   "outputs": [],
   "source": [
    "METAINFO['classes']"
   ]
  },
  {
   "cell_type": "code",
   "execution_count": null,
   "metadata": {},
   "outputs": [],
   "source": []
  }
 ],
 "metadata": {
  "kernelspec": {
   "display_name": "python310",
   "language": "python",
   "name": "python3"
  },
  "language_info": {
   "codemirror_mode": {
    "name": "ipython",
    "version": 3
   },
   "file_extension": ".py",
   "mimetype": "text/x-python",
   "name": "python",
   "nbconvert_exporter": "python",
   "pygments_lexer": "ipython3",
   "version": "3.10.14"
  }
 },
 "nbformat": 4,
 "nbformat_minor": 2
}
