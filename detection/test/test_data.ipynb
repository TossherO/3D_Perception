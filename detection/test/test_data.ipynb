{
 "cells": [
  {
   "cell_type": "code",
   "execution_count": 1,
   "metadata": {},
   "outputs": [
    {
     "name": "stderr",
     "output_type": "stream",
     "text": [
      "Matplotlib created a temporary config/cache directory at /tmp/matplotlib-o7xj2etb because the default path (/home/hello/.config/matplotlib) is not a writable directory; it is highly recommended to set the MPLCONFIGDIR environment variable to a writable directory, in particular to speed up the import of Matplotlib and to better support multiprocessing.\n"
     ]
    }
   ],
   "source": [
    "import numpy as np\n",
    "import torch\n",
    "import mmengine\n",
    "from mmdet3d.structures import LiDARInstance3DBoxes"
   ]
  },
  {
   "cell_type": "code",
   "execution_count": 2,
   "metadata": {},
   "outputs": [],
   "source": [
    "# info_path = '../data/nuscenes/nuscenes_infos_train.pkl'\n",
    "info_path = '../data/CODA/coda_infos_train.pkl'\n",
    "info = mmengine.load(info_path)"
   ]
  },
  {
   "cell_type": "code",
   "execution_count": 3,
   "metadata": {},
   "outputs": [
    {
     "data": {
      "text/plain": [
       "dict_keys(['metainfo', 'data_list'])"
      ]
     },
     "execution_count": 3,
     "metadata": {},
     "output_type": "execute_result"
    }
   ],
   "source": [
    "info.keys()"
   ]
  },
  {
   "cell_type": "code",
   "execution_count": 24,
   "metadata": {},
   "outputs": [
    {
     "data": {
      "text/plain": [
       "{'categories': {'Car': 0,\n",
       "  'Pedestrian': 1,\n",
       "  'Bike': 2,\n",
       "  'Motorcycle': 3,\n",
       "  'Golf Cart': 4,\n",
       "  'Truck': 5,\n",
       "  'Scooter': 6,\n",
       "  'Tree': 7,\n",
       "  'Traffic Sign': 8,\n",
       "  'Canopy': 9,\n",
       "  'Traffic Light': 10,\n",
       "  'Bike Rack': 11,\n",
       "  'Bollard': 12,\n",
       "  'Construction Barrier': 13,\n",
       "  'Parking Kiosk': 14,\n",
       "  'Mailbox': 15,\n",
       "  'Fire Hydrant': 16,\n",
       "  'Freestanding Plant': 17,\n",
       "  'Pole': 18,\n",
       "  'Informational Sign': 19,\n",
       "  'Door': 20,\n",
       "  'Fence': 21,\n",
       "  'Railing': 22,\n",
       "  'Cone': 23,\n",
       "  'Chair': 24,\n",
       "  'Bench': 25,\n",
       "  'Table': 26,\n",
       "  'Trash Can': 27,\n",
       "  'Newspaper Dispenser': 28,\n",
       "  'Room Label': 29,\n",
       "  'Stanchion': 30,\n",
       "  'Sanitizer Dispenser': 31,\n",
       "  'Condiment Dispenser': 32,\n",
       "  'Vending Machine': 33,\n",
       "  'Emergency Aid Kit': 34,\n",
       "  'Fire Extinguisher': 35,\n",
       "  'Computer': 36,\n",
       "  'Television': 37,\n",
       "  'Other': 38,\n",
       "  'Horse': 39,\n",
       "  'Pickup Truck': 40,\n",
       "  'Delivery Truck': 41,\n",
       "  'Service Vehicle': 42,\n",
       "  'Utility Vehicle': 43,\n",
       "  'Fire Alarm': 44,\n",
       "  'ATM': 45,\n",
       "  'Cart': 46,\n",
       "  'Couch': 47,\n",
       "  'Traffic Arm': 48,\n",
       "  'Wall Sign': 49,\n",
       "  'Floor Sign': 50,\n",
       "  'Door Switch': 51,\n",
       "  'Emergency Phone': 52,\n",
       "  'Dumpster': 53,\n",
       "  'Vacuum Cleaner': 54,\n",
       "  'Segway': 55,\n",
       "  'Bus': 56,\n",
       "  'Skateboard': 57,\n",
       "  'Water Fountain': 58},\n",
       " 'dataset': 'coda',\n",
       " 'version': 'v1.0',\n",
       " 'split': 'train'}"
      ]
     },
     "execution_count": 24,
     "metadata": {},
     "output_type": "execute_result"
    }
   ],
   "source": [
    "info['metainfo']"
   ]
  },
  {
   "cell_type": "code",
   "execution_count": 4,
   "metadata": {},
   "outputs": [
    {
     "data": {
      "text/plain": [
       "dict_keys(['scene', 'frame', 'sample_idx', 'token', 'timestamp', 'lidar_points', 'images', 'instances', 'ego2global'])"
      ]
     },
     "execution_count": 4,
     "metadata": {},
     "output_type": "execute_result"
    }
   ],
   "source": [
    "info['data_list'][10].keys()"
   ]
  },
  {
   "cell_type": "code",
   "execution_count": 5,
   "metadata": {},
   "outputs": [
    {
     "data": {
      "text/plain": [
       "[{'bbox_label_3d': 7,\n",
       "  'bbox_3d': [14.65092558286753,\n",
       "   7.416930527336689,\n",
       "   0.8650274256859527,\n",
       "   1.2636969121367418,\n",
       "   0.88562050161188,\n",
       "   2.1941588720551595,\n",
       "   -0.06125557682484328],\n",
       "  'is_occluded': 'None',\n",
       "  'instance_id': 'Tree:2'},\n",
       " {'bbox_label_3d': 1,\n",
       "  'bbox_3d': [14.701236696890788,\n",
       "   -1.6190921355828962,\n",
       "   0.5248246088500852,\n",
       "   0.8868889577540052,\n",
       "   0.7684369400873812,\n",
       "   1.6928143515394822,\n",
       "   -0.06125557682484328],\n",
       "  'is_occluded': 'None',\n",
       "  'instance_id': 'Pedestrian:1'},\n",
       " {'bbox_label_3d': 1,\n",
       "  'bbox_3d': [12.925586370268945,\n",
       "   6.396423694764728,\n",
       "   0.4331579762554236,\n",
       "   0.8074464554803793,\n",
       "   0.6140909416385899,\n",
       "   1.5272843634922992,\n",
       "   3.08033707676495],\n",
       "  'is_occluded': 'None',\n",
       "  'instance_id': 'Pedestrian:2'},\n",
       " {'bbox_label_3d': 1,\n",
       "  'bbox_3d': [18.880909700288015,\n",
       "   2.290999965327906,\n",
       "   0.7624793116183519,\n",
       "   1.1635385073503188,\n",
       "   0.6369832931105018,\n",
       "   1.8848684396558606,\n",
       "   3.0478613484705743],\n",
       "  'is_occluded': 'None',\n",
       "  'instance_id': 'Pedestrian:6'},\n",
       " {'bbox_label_3d': 41,\n",
       "  'bbox_3d': [17.313417436578987,\n",
       "   -3.4208876679470066,\n",
       "   0.7464709961577989,\n",
       "   5.749445500784647,\n",
       "   2.490096743662289,\n",
       "   2.066075318193498,\n",
       "   -0.054327140717382684],\n",
       "  'is_occluded': 'None',\n",
       "  'instance_id': 'Delivery Truck:2'},\n",
       " {'bbox_label_3d': 41,\n",
       "  'bbox_3d': [0.9781029823419658,\n",
       "   -2.026595940036124,\n",
       "   0.26155679444367186,\n",
       "   4.526830841388639,\n",
       "   2.528568426066462,\n",
       "   2.0242295232291974,\n",
       "   -0.04099982147885528],\n",
       "  'is_occluded': 'None',\n",
       "  'instance_id': 'Delivery Truck:1'},\n",
       " {'bbox_label_3d': 50,\n",
       "  'bbox_3d': [-3.1433655025469704,\n",
       "   7.2671671453933016,\n",
       "   -0.1770792138118542,\n",
       "   0.5796374440184869,\n",
       "   0.8753848875708141,\n",
       "   1.1534479455291409,\n",
       "   -0.21610588675374953],\n",
       "  'is_occluded': 'Unknown',\n",
       "  'instance_id': 'Floor Sign:1'},\n",
       " {'bbox_label_3d': 1,\n",
       "  'bbox_3d': [-4.231414305494496,\n",
       "   3.03345250409145,\n",
       "   -0.008811339585069966,\n",
       "   1.0242578622555332,\n",
       "   0.626545340896398,\n",
       "   1.7742443783484159,\n",
       "   3.08033707676495],\n",
       "  'is_occluded': 'Unknown',\n",
       "  'instance_id': 'Pedestrian:3'},\n",
       " {'bbox_label_3d': 1,\n",
       "  'bbox_3d': [-1.5109149351127087,\n",
       "   1.1019066211876947,\n",
       "   0.014370364500004174,\n",
       "   0.7970892903649547,\n",
       "   0.8152620163137447,\n",
       "   1.718871229955539,\n",
       "   -0.06125557682484328],\n",
       "  'is_occluded': 'Unknown',\n",
       "  'instance_id': 'Pedestrian:4'},\n",
       " {'bbox_label_3d': 1,\n",
       "  'bbox_3d': [-1.0760143671557785,\n",
       "   0.08543369723418692,\n",
       "   0.030372658761037563,\n",
       "   0.661448805522802,\n",
       "   0.8064039663238542,\n",
       "   1.7330620005693618,\n",
       "   -0.06125557682484328],\n",
       "  'is_occluded': 'Unknown',\n",
       "  'instance_id': 'Pedestrian:5'},\n",
       " {'bbox_label_3d': 18,\n",
       "  'bbox_3d': [5.905469876019652,\n",
       "   7.643739181845341,\n",
       "   2.00915421056273,\n",
       "   0.4467882182260295,\n",
       "   0.8169607599884352,\n",
       "   4.663719607780195,\n",
       "   3.08033707676495],\n",
       "  'is_occluded': 'Unknown',\n",
       "  'instance_id': 'Pole:1'},\n",
       " {'bbox_label_3d': 18,\n",
       "  'bbox_3d': [5.592735707229195,\n",
       "   14.154300934427695,\n",
       "   1.9444631673219477,\n",
       "   0.7607593047522878,\n",
       "   0.86032799483106,\n",
       "   4.6474773528193065,\n",
       "   3.08033707676495],\n",
       "  'is_occluded': 'Unknown',\n",
       "  'instance_id': 'Pole:2'},\n",
       " {'bbox_label_3d': 18,\n",
       "  'bbox_3d': [5.037285604716857,\n",
       "   -4.507118928102628,\n",
       "   2.134637024404537,\n",
       "   0.4691105763141824,\n",
       "   1.0047263765994345,\n",
       "   4.921433990926062,\n",
       "   3.08033707676495],\n",
       "  'is_occluded': 'Unknown',\n",
       "  'instance_id': 'Pole:3'},\n",
       " {'bbox_label_3d': 7,\n",
       "  'bbox_3d': [2.650446619284935,\n",
       "   11.51415234514667,\n",
       "   0.32302994070054236,\n",
       "   0.422274132153849,\n",
       "   0.4405358191202717,\n",
       "   1.3860751024831188,\n",
       "   -0.061255576824842735],\n",
       "  'is_occluded': 'Unknown',\n",
       "  'instance_id': 'Tree:1'},\n",
       " {'bbox_label_3d': 7,\n",
       "  'bbox_3d': [-10.473640284922197,\n",
       "   13.116751610522812,\n",
       "   -0.19339701764089012,\n",
       "   0.49463378317018236,\n",
       "   0.5342041497153119,\n",
       "   1.4718382777573424,\n",
       "   -0.06125557682484328],\n",
       "  'is_occluded': 'Unknown',\n",
       "  'instance_id': 'Tree:3'}]"
      ]
     },
     "execution_count": 5,
     "metadata": {},
     "output_type": "execute_result"
    }
   ],
   "source": [
    "info['data_list'][10]['instances']"
   ]
  },
  {
   "cell_type": "code",
   "execution_count": 23,
   "metadata": {},
   "outputs": [
    {
     "data": {
      "text/plain": [
       "array([[-6.97381136e-03,  9.99968145e-01, -3.88258233e-03,\n",
       "        -1.04656410e+02],\n",
       "       [-9.98723210e-01, -6.77075691e-03,  5.00610218e-02,\n",
       "         1.70632961e+02],\n",
       "       [ 5.00331391e-02,  4.22674122e-03,  9.98738614e-01,\n",
       "        -2.39736400e+00],\n",
       "       [ 0.00000000e+00,  0.00000000e+00,  0.00000000e+00,\n",
       "         1.00000000e+00]])"
      ]
     },
     "execution_count": 23,
     "metadata": {},
     "output_type": "execute_result"
    }
   ],
   "source": [
    "info['data_list'][1000]['ego2global']"
   ]
  },
  {
   "cell_type": "code",
   "execution_count": null,
   "metadata": {},
   "outputs": [],
   "source": [
    "instance_range = [np.inf, np.inf, np.inf, -np.inf, -np.inf, -np.inf]\n",
    "corners = []\n",
    "for sample in info['data_list']:\n",
    "    bboxes = [instance['bbox_3d'] for instance in sample['instances']]\n",
    "    bboxes_3d = LiDARInstance3DBoxes(bboxes, origin=(0.5, 0.5, 0.5))\n",
    "    corner = bboxes_3d.corners.reshape(-1, 3).numpy()\n",
    "    corners.append(np.concatenate([corner.min(axis=0), corner.max(axis=0)]))\n",
    "    instance_range[0:3] = np.minimum(instance_range[0:3], np.min(corner, axis=0))\n",
    "    instance_range[3:6] = np.maximum(instance_range[3:6], np.max(corner, axis=0))"
   ]
  },
  {
   "cell_type": "code",
   "execution_count": null,
   "metadata": {},
   "outputs": [],
   "source": [
    "corners"
   ]
  },
  {
   "cell_type": "code",
   "execution_count": null,
   "metadata": {},
   "outputs": [],
   "source": [
    "instance_range"
   ]
  },
  {
   "cell_type": "code",
   "execution_count": null,
   "metadata": {},
   "outputs": [],
   "source": [
    "info['data_list'][10]['instances']"
   ]
  },
  {
   "cell_type": "code",
   "execution_count": null,
   "metadata": {},
   "outputs": [],
   "source": [
    "info['data_list'][0]['images']['cam1']"
   ]
  },
  {
   "cell_type": "code",
   "execution_count": null,
   "metadata": {},
   "outputs": [],
   "source": [
    "BBOX_CLASS_TO_ID = {\n",
    "    # Dynamic Classes\n",
    "    \"Car\"                   : 0,\n",
    "    \"Pedestrian\"            : 1,\n",
    "    \"Bike\"                  : 2,\n",
    "    \"Motorcycle\"            : 3,\n",
    "    \"Golf Cart\"             : 4, # Unused\n",
    "    \"Truck\"                 : 5, # Unused\n",
    "    \"Scooter\"               : 6,\n",
    "    # Static Classes\n",
    "    \"Tree\"                  : 7,\n",
    "    \"Traffic Sign\"          : 8,\n",
    "    \"Canopy\"                : 9,\n",
    "    \"Traffic Light\"         : 10,\n",
    "    \"Bike Rack\"             : 11,\n",
    "    \"Bollard\"               : 12,\n",
    "    \"Construction Barrier\"  : 13, # Unused\n",
    "    \"Parking Kiosk\"         : 14,\n",
    "    \"Mailbox\"               : 15,\n",
    "    \"Fire Hydrant\"          : 16,\n",
    "    # Static Class Mixed\n",
    "    \"Freestanding Plant\"    : 17,\n",
    "    \"Pole\"                  : 18,\n",
    "    \"Informational Sign\"    : 19,\n",
    "    \"Door\"                  : 20,\n",
    "    \"Fence\"                 : 21,\n",
    "    \"Railing\"               : 22,\n",
    "    \"Cone\"                  : 23,\n",
    "    \"Chair\"                 : 24,\n",
    "    \"Bench\"                 : 25,\n",
    "    \"Table\"                 : 26,\n",
    "    \"Trash Can\"             : 27,\n",
    "    \"Newspaper Dispenser\"   : 28,\n",
    "    # Static Classes Indoor\n",
    "    \"Room Label\"            : 29,\n",
    "    \"Stanchion\"             : 30,\n",
    "    \"Sanitizer Dispenser\"   : 31,\n",
    "    \"Condiment Dispenser\"   : 32,\n",
    "    \"Vending Machine\"       : 33,\n",
    "    \"Emergency Aid Kit\"     : 34,\n",
    "    \"Fire Extinguisher\"     : 35,\n",
    "    \"Computer\"              : 36,\n",
    "    \"Television\"            : 37, # unused\n",
    "    \"Other\"                 : 38,\n",
    "    \"Horse\"                 : 39,\n",
    "    # New Classes\n",
    "    \"Pickup Truck\"          : 40,\n",
    "    \"Delivery Truck\"        : 41,\n",
    "    \"Service Vehicle\"       : 42,\n",
    "    \"Utility Vehicle\"       : 43,\n",
    "    \"Fire Alarm\"            : 44,\n",
    "    \"ATM\"                   : 45,\n",
    "    \"Cart\"                  : 46,\n",
    "    \"Couch\"                 : 47,\n",
    "    \"Traffic Arm\"           : 48,\n",
    "    \"Wall Sign\"             : 49,\n",
    "    \"Floor Sign\"            : 50,\n",
    "    \"Door Switch\"           : 51,\n",
    "    \"Emergency Phone\"       : 52,\n",
    "    \"Dumpster\"              : 53,\n",
    "    \"Vacuum Cleaner\"        : 54, # unused\n",
    "    \"Segway\"                : 55,\n",
    "    \"Bus\"                   : 56,\n",
    "    \"Skateboard\"            : 57,\n",
    "    \"Water Fountain\"        : 58\n",
    "}"
   ]
  },
  {
   "cell_type": "code",
   "execution_count": null,
   "metadata": {},
   "outputs": [],
   "source": [
    "METAINFO = {\n",
    "        'classes':\n",
    "        tuple(BBOX_CLASS_TO_ID.keys()),\n",
    "        'version':\n",
    "        'v1.0-trainval',\n",
    "        'palette': [\n",
    "            (255, 158, 0),  # Orange\n",
    "            (255, 99, 71),  # Tomato\n",
    "            (255, 140, 0),  # Darkorange\n",
    "            (255, 127, 80),  # Coral\n",
    "            (233, 150, 70),  # Darksalmon\n",
    "            (220, 20, 60),  # Crimson\n",
    "            (255, 61, 99),  # Red\n",
    "            (0, 0, 230),  # Blue\n",
    "            (47, 79, 79),  # Darkslategrey\n",
    "            (112, 128, 144),  # Slategrey\n",
    "        ]\n",
    "    }"
   ]
  },
  {
   "cell_type": "code",
   "execution_count": null,
   "metadata": {},
   "outputs": [],
   "source": [
    "METAINFO['classes']"
   ]
  },
  {
   "cell_type": "code",
   "execution_count": null,
   "metadata": {},
   "outputs": [],
   "source": []
  }
 ],
 "metadata": {
  "kernelspec": {
   "display_name": "python310",
   "language": "python",
   "name": "python3"
  },
  "language_info": {
   "codemirror_mode": {
    "name": "ipython",
    "version": 3
   },
   "file_extension": ".py",
   "mimetype": "text/x-python",
   "name": "python",
   "nbconvert_exporter": "python",
   "pygments_lexer": "ipython3",
   "version": "3.10.14"
  }
 },
 "nbformat": 4,
 "nbformat_minor": 2
}
