{
 "cells": [
  {
   "cell_type": "code",
   "execution_count": 3,
   "metadata": {},
   "outputs": [],
   "source": [
    "import numpy as np\n",
    "import torch\n",
    "import mmengine\n",
    "from mmdet3d.structures import LiDARInstance3DBoxes"
   ]
  },
  {
   "cell_type": "code",
   "execution_count": 4,
   "metadata": {},
   "outputs": [],
   "source": [
    "# info_path = '../data/nuscenes/nuscenes_infos_train.pkl'\n",
    "# info_path = '../data/CODA/coda_infos_val.pkl'\n",
    "info_path = '../data/CODA/coda_16lines_infos_val.pkl'\n",
    "# info_path = '../data/CODA/detection_results.pkl'\n",
    "info = mmengine.load(info_path)"
   ]
  },
  {
   "cell_type": "code",
   "execution_count": 5,
   "metadata": {},
   "outputs": [
    {
     "data": {
      "text/plain": [
       "{'categories': {'Car': 0, 'Pedestrian': 1, 'Cyclist': 2},\n",
       " 'dataset': 'coda',\n",
       " 'version': 'v1.0',\n",
       " 'split': 'test'}"
      ]
     },
     "execution_count": 5,
     "metadata": {},
     "output_type": "execute_result"
    }
   ],
   "source": [
    "info['metainfo']"
   ]
  },
  {
   "cell_type": "code",
   "execution_count": 6,
   "metadata": {},
   "outputs": [
    {
     "data": {
      "text/plain": [
       "281"
      ]
     },
     "execution_count": 6,
     "metadata": {},
     "output_type": "execute_result"
    }
   ],
   "source": [
    "len(info['data_list'])"
   ]
  },
  {
   "cell_type": "code",
   "execution_count": 7,
   "metadata": {},
   "outputs": [
    {
     "data": {
      "text/plain": [
       "dict_keys(['scene', 'frame', 'sample_idx', 'token', 'timestamp', 'lidar_points', 'images', 'instances', 'ego2global'])"
      ]
     },
     "execution_count": 7,
     "metadata": {},
     "output_type": "execute_result"
    }
   ],
   "source": [
    "info['data_list'][0].keys()"
   ]
  },
  {
   "cell_type": "code",
   "execution_count": 8,
   "metadata": {},
   "outputs": [
    {
     "data": {
      "text/plain": [
       "[{'bbox_label_3d': 0,\n",
       "  'bbox_3d': [-0.9067391352685945,\n",
       "   0.39990630982993025,\n",
       "   -0.02373945821291379,\n",
       "   0.5250966241816485,\n",
       "   0.6964439512911508,\n",
       "   1.64800068647178,\n",
       "   -0.014942340926103397],\n",
       "  'is_occluded': 'Full',\n",
       "  'instance_id': 'Pedestrian:1'},\n",
       " {'bbox_label_3d': 0,\n",
       "  'bbox_3d': [4.658592347987764,\n",
       "   -7.354152085573844,\n",
       "   0.3114288940951262,\n",
       "   0.9367770422125365,\n",
       "   0.6303184073941099,\n",
       "   1.6471728802722168,\n",
       "   -0.014942293375257097],\n",
       "  'is_occluded': 'Full',\n",
       "  'instance_id': 'Pedestrian:8'},\n",
       " {'bbox_label_3d': 0,\n",
       "  'bbox_3d': [-16.605690688790048,\n",
       "   0.9738310356631175,\n",
       "   -0.49934294004143176,\n",
       "   1.0203429086589022,\n",
       "   0.7004780467827554,\n",
       "   1.6776112188461318,\n",
       "   -3.1143894307601827],\n",
       "  'is_occluded': 'Full',\n",
       "  'instance_id': 'Pedestrian:4'},\n",
       " {'bbox_label_3d': 0,\n",
       "  'bbox_3d': [13.77538166579805,\n",
       "   -6.124748555594294,\n",
       "   0.6261976248052434,\n",
       "   1.1283675278087222,\n",
       "   0.783376783056051,\n",
       "   1.747417494030894,\n",
       "   -0.018113733833310195],\n",
       "  'is_occluded': 'None',\n",
       "  'instance_id': 'Pedestrian:12'},\n",
       " {'bbox_label_3d': 0,\n",
       "  'bbox_3d': [15.53063048830893,\n",
       "   -8.03128938209801,\n",
       "   0.7288294779590725,\n",
       "   1.057760788662922,\n",
       "   0.8267025034897286,\n",
       "   1.7108608719806098,\n",
       "   0.08880582979235728],\n",
       "  'is_occluded': 'None',\n",
       "  'instance_id': 'Pedestrian:11'},\n",
       " {'bbox_label_3d': 0,\n",
       "  'bbox_3d': [0.05389977108802668,\n",
       "   -6.681476916578944,\n",
       "   0.252394501138248,\n",
       "   1.00423227645963,\n",
       "   0.725216492531056,\n",
       "   1.9320710855947758,\n",
       "   -0.014942293375257097],\n",
       "  'is_occluded': 'Full',\n",
       "  'instance_id': 'Pedestrian:9'},\n",
       " {'bbox_label_3d': 0,\n",
       "  'bbox_3d': [-2.409689390019423,\n",
       "   -0.17791193186671705,\n",
       "   0.011665719426160237,\n",
       "   0.8883793738336706,\n",
       "   0.8578215890680185,\n",
       "   1.765921682527055,\n",
       "   0.02279603902987302],\n",
       "  'is_occluded': 'Full',\n",
       "  'instance_id': 'Pedestrian:2'},\n",
       " {'bbox_label_3d': 0,\n",
       "  'bbox_3d': [-4.406561999631322,\n",
       "   -13.582378995977791,\n",
       "   0.04235010385976068,\n",
       "   1.0443084300658159,\n",
       "   0.9842000517525075,\n",
       "   1.7076528852354596,\n",
       "   -1.5092941063364052],\n",
       "  'is_occluded': 'Full',\n",
       "  'instance_id': 'Pedestrian:14'},\n",
       " {'bbox_label_3d': 0,\n",
       "  'bbox_3d': [1.763096749348989,\n",
       "   -8.590482863982444,\n",
       "   0.2966101564972039,\n",
       "   1.0391911970825887,\n",
       "   0.7752164925310558,\n",
       "   1.7687643557799269,\n",
       "   -0.10576874599353273],\n",
       "  'is_occluded': 'Full',\n",
       "  'instance_id': 'Pedestrian:15'},\n",
       " {'bbox_label_3d': 0,\n",
       "  'bbox_3d': [6.725769211751327,\n",
       "   -8.108148011777018,\n",
       "   0.4181381995751181,\n",
       "   1.0254756009691937,\n",
       "   0.6579789656929119,\n",
       "   1.6729586250249788,\n",
       "   -0.014942340926103397],\n",
       "  'is_occluded': 'Full',\n",
       "  'instance_id': 'Pedestrian:19'},\n",
       " {'bbox_label_3d': 0,\n",
       "  'bbox_3d': [-1.1244348276223946,\n",
       "   -7.7450356157715134,\n",
       "   0.08118744444566417,\n",
       "   0.8842687332746555,\n",
       "   0.6555272529120398,\n",
       "   1.5528926577185302,\n",
       "   -0.04155087741926901],\n",
       "  'is_occluded': 'Full',\n",
       "  'instance_id': 'Pedestrian:16'},\n",
       " {'bbox_label_3d': 0,\n",
       "  'bbox_3d': [-17.509577659855807,\n",
       "   -7.112605149714952,\n",
       "   -0.2854163936343568,\n",
       "   1.154232276459625,\n",
       "   0.8756243578776601,\n",
       "   1.9320710855947758,\n",
       "   -0.0006838196156491232],\n",
       "  'is_occluded': 'Full',\n",
       "  'instance_id': 'Pedestrian:18'},\n",
       " {'bbox_label_3d': 0,\n",
       "  'bbox_3d': [-1.5170519452843223,\n",
       "   -7.100757120487032,\n",
       "   0.044248184806292556,\n",
       "   0.9152524455998063,\n",
       "   0.6478326472141543,\n",
       "   1.5576979769141466,\n",
       "   -0.014942293375257097],\n",
       "  'is_occluded': 'Full',\n",
       "  'instance_id': 'Pedestrian:17'}]"
      ]
     },
     "execution_count": 8,
     "metadata": {},
     "output_type": "execute_result"
    }
   ],
   "source": [
    "info['data_list'][0]['instances']"
   ]
  },
  {
   "cell_type": "code",
   "execution_count": 20,
   "metadata": {},
   "outputs": [
    {
     "data": {
      "text/plain": [
       "dict_keys(['lidar_points', 'timestamp', 'lidar_sweeps', 'images', 'box_type_3d', 'box_mode_3d'])"
      ]
     },
     "execution_count": 20,
     "metadata": {},
     "output_type": "execute_result"
    }
   ],
   "source": [
    "info.keys()"
   ]
  },
  {
   "cell_type": "code",
   "execution_count": 22,
   "metadata": {},
   "outputs": [
    {
     "data": {
      "text/plain": [
       "0"
      ]
     },
     "execution_count": 22,
     "metadata": {},
     "output_type": "execute_result"
    }
   ],
   "source": [
    "info['box_mode_3d']"
   ]
  },
  {
   "cell_type": "code",
   "execution_count": 4,
   "metadata": {},
   "outputs": [
    {
     "data": {
      "text/plain": [
       "dict_keys(['sample_idx', 'pre_bboxes', 'pre_labels', 'pre_scores'])"
      ]
     },
     "execution_count": 4,
     "metadata": {},
     "output_type": "execute_result"
    }
   ],
   "source": [
    "info.keys()"
   ]
  },
  {
   "cell_type": "code",
   "execution_count": null,
   "metadata": {},
   "outputs": [],
   "source": [
    "info['metainfo']['categories']"
   ]
  },
  {
   "cell_type": "code",
   "execution_count": null,
   "metadata": {},
   "outputs": [],
   "source": [
    "class_names = ['Pedestrian', 'Cyclist']\n",
    "class_labels = [info['metainfo']['categories'][class_name] for class_name in class_names]"
   ]
  },
  {
   "cell_type": "code",
   "execution_count": null,
   "metadata": {},
   "outputs": [],
   "source": [
    "info['pre_bboxes'][10]"
   ]
  },
  {
   "cell_type": "code",
   "execution_count": null,
   "metadata": {},
   "outputs": [],
   "source": [
    "info['metainfo']"
   ]
  },
  {
   "cell_type": "code",
   "execution_count": null,
   "metadata": {},
   "outputs": [],
   "source": [
    "info['data_list'][10]"
   ]
  },
  {
   "cell_type": "code",
   "execution_count": null,
   "metadata": {},
   "outputs": [],
   "source": [
    "info['data_list'][10]['instances']"
   ]
  },
  {
   "cell_type": "code",
   "execution_count": null,
   "metadata": {},
   "outputs": [],
   "source": [
    "info['data_list'][-1]['ego2global']"
   ]
  },
  {
   "cell_type": "code",
   "execution_count": null,
   "metadata": {},
   "outputs": [],
   "source": [
    "len(info['data_list'])"
   ]
  },
  {
   "cell_type": "code",
   "execution_count": null,
   "metadata": {},
   "outputs": [],
   "source": [
    "instance_range = [np.inf, np.inf, np.inf, -np.inf, -np.inf, -np.inf]\n",
    "corners = []\n",
    "for sample in info['data_list']:\n",
    "    bboxes = [instance['bbox_3d'] for instance in sample['instances']]\n",
    "    bboxes_3d = LiDARInstance3DBoxes(bboxes, origin=(0.5, 0.5, 0.5))\n",
    "    corner = bboxes_3d.corners.reshape(-1, 3).numpy()\n",
    "    corners.append(np.concatenate([corner.min(axis=0), corner.max(axis=0)]))\n",
    "    instance_range[0:3] = np.minimum(instance_range[0:3], np.min(corner, axis=0))\n",
    "    instance_range[3:6] = np.maximum(instance_range[3:6], np.max(corner, axis=0))"
   ]
  },
  {
   "cell_type": "code",
   "execution_count": null,
   "metadata": {},
   "outputs": [],
   "source": [
    "sum = 0\n",
    "distribute = [0, 0, 0, 0, 0, 0, 0, 0, 0]\n",
    "for sample in info['data_list']:    \n",
    "    for instance in sample['instances']:\n",
    "        if instance['bbox_label_3d'] == 2:\n",
    "            sum += 1\n",
    "            if instance['bbox_3d'][5] < 1.0:\n",
    "                distribute[0] += 1\n",
    "            elif instance['bbox_3d'][5] < 1.1:\n",
    "                distribute[1] += 1\n",
    "            elif instance['bbox_3d'][5] < 1.2:\n",
    "                distribute[2] += 1\n",
    "            elif instance['bbox_3d'][5] < 1.3:\n",
    "                distribute[3] += 1\n",
    "            elif instance['bbox_3d'][5] < 1.4:\n",
    "                distribute[4] += 1\n",
    "            elif instance['bbox_3d'][5] < 1.5:\n",
    "                distribute[5] += 1\n",
    "                print(instance['bbox_3d'], sample['token'])\n",
    "            elif instance['bbox_3d'][5] < 1.6:\n",
    "                distribute[6] += 1\n",
    "            elif instance['bbox_3d'][5] < 1.7:\n",
    "                distribute[7] += 1\n",
    "            else:\n",
    "                distribute[8] += 1\n",
    "print(sum, distribute)"
   ]
  },
  {
   "cell_type": "code",
   "execution_count": null,
   "metadata": {},
   "outputs": [],
   "source": [
    "corners"
   ]
  },
  {
   "cell_type": "code",
   "execution_count": null,
   "metadata": {},
   "outputs": [],
   "source": [
    "instance_range"
   ]
  },
  {
   "cell_type": "code",
   "execution_count": null,
   "metadata": {},
   "outputs": [],
   "source": [
    "info['data_list'][10]['instances']"
   ]
  },
  {
   "cell_type": "code",
   "execution_count": null,
   "metadata": {},
   "outputs": [],
   "source": [
    "info['data_list'][0]['images']['cam1']"
   ]
  },
  {
   "cell_type": "code",
   "execution_count": null,
   "metadata": {},
   "outputs": [],
   "source": [
    "BBOX_CLASS_TO_ID = {\n",
    "    # Dynamic Classes\n",
    "    \"Car\"                   : 0,\n",
    "    \"Pedestrian\"            : 1,\n",
    "    \"Bike\"                  : 2,\n",
    "    \"Motorcycle\"            : 3,\n",
    "    \"Golf Cart\"             : 4, # Unused\n",
    "    \"Truck\"                 : 5, # Unused\n",
    "    \"Scooter\"               : 6,\n",
    "    # Static Classes\n",
    "    \"Tree\"                  : 7,\n",
    "    \"Traffic Sign\"          : 8,\n",
    "    \"Canopy\"                : 9,\n",
    "    \"Traffic Light\"         : 10,\n",
    "    \"Bike Rack\"             : 11,\n",
    "    \"Bollard\"               : 12,\n",
    "    \"Construction Barrier\"  : 13, # Unused\n",
    "    \"Parking Kiosk\"         : 14,\n",
    "    \"Mailbox\"               : 15,\n",
    "    \"Fire Hydrant\"          : 16,\n",
    "    # Static Class Mixed\n",
    "    \"Freestanding Plant\"    : 17,\n",
    "    \"Pole\"                  : 18,\n",
    "    \"Informational Sign\"    : 19,\n",
    "    \"Door\"                  : 20,\n",
    "    \"Fence\"                 : 21,\n",
    "    \"Railing\"               : 22,\n",
    "    \"Cone\"                  : 23,\n",
    "    \"Chair\"                 : 24,\n",
    "    \"Bench\"                 : 25,\n",
    "    \"Table\"                 : 26,\n",
    "    \"Trash Can\"             : 27,\n",
    "    \"Newspaper Dispenser\"   : 28,\n",
    "    # Static Classes Indoor\n",
    "    \"Room Label\"            : 29,\n",
    "    \"Stanchion\"             : 30,\n",
    "    \"Sanitizer Dispenser\"   : 31,\n",
    "    \"Condiment Dispenser\"   : 32,\n",
    "    \"Vending Machine\"       : 33,\n",
    "    \"Emergency Aid Kit\"     : 34,\n",
    "    \"Fire Extinguisher\"     : 35,\n",
    "    \"Computer\"              : 36,\n",
    "    \"Television\"            : 37, # unused\n",
    "    \"Other\"                 : 38,\n",
    "    \"Horse\"                 : 39,\n",
    "    # New Classes\n",
    "    \"Pickup Truck\"          : 40,\n",
    "    \"Delivery Truck\"        : 41,\n",
    "    \"Service Vehicle\"       : 42,\n",
    "    \"Utility Vehicle\"       : 43,\n",
    "    \"Fire Alarm\"            : 44,\n",
    "    \"ATM\"                   : 45,\n",
    "    \"Cart\"                  : 46,\n",
    "    \"Couch\"                 : 47,\n",
    "    \"Traffic Arm\"           : 48,\n",
    "    \"Wall Sign\"             : 49,\n",
    "    \"Floor Sign\"            : 50,\n",
    "    \"Door Switch\"           : 51,\n",
    "    \"Emergency Phone\"       : 52,\n",
    "    \"Dumpster\"              : 53,\n",
    "    \"Vacuum Cleaner\"        : 54, # unused\n",
    "    \"Segway\"                : 55,\n",
    "    \"Bus\"                   : 56,\n",
    "    \"Skateboard\"            : 57,\n",
    "    \"Water Fountain\"        : 58\n",
    "}"
   ]
  },
  {
   "cell_type": "code",
   "execution_count": null,
   "metadata": {},
   "outputs": [],
   "source": [
    "METAINFO = {\n",
    "        'classes':\n",
    "        tuple(BBOX_CLASS_TO_ID.keys()),\n",
    "        'version':\n",
    "        'v1.0-trainval',\n",
    "        'palette': [\n",
    "            (255, 158, 0),  # Orange\n",
    "            (255, 99, 71),  # Tomato\n",
    "            (255, 140, 0),  # Darkorange\n",
    "            (255, 127, 80),  # Coral\n",
    "            (233, 150, 70),  # Darksalmon\n",
    "            (220, 20, 60),  # Crimson\n",
    "            (255, 61, 99),  # Red\n",
    "            (0, 0, 230),  # Blue\n",
    "            (47, 79, 79),  # Darkslategrey\n",
    "            (112, 128, 144),  # Slategrey\n",
    "        ]\n",
    "    }"
   ]
  },
  {
   "cell_type": "code",
   "execution_count": null,
   "metadata": {},
   "outputs": [],
   "source": [
    "METAINFO['classes']"
   ]
  },
  {
   "cell_type": "code",
   "execution_count": null,
   "metadata": {},
   "outputs": [],
   "source": []
  }
 ],
 "metadata": {
  "kernelspec": {
   "display_name": "ros_perception",
   "language": "python",
   "name": "python3"
  },
  "language_info": {
   "codemirror_mode": {
    "name": "ipython",
    "version": 3
   },
   "file_extension": ".py",
   "mimetype": "text/x-python",
   "name": "python",
   "nbconvert_exporter": "python",
   "pygments_lexer": "ipython3",
   "version": "3.10.15"
  }
 },
 "nbformat": 4,
 "nbformat_minor": 2
}
