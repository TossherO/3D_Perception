{
 "cells": [
  {
   "cell_type": "code",
   "execution_count": 1,
   "metadata": {},
   "outputs": [],
   "source": [
    "import os\n",
    "import os.path as osp\n",
    "import time\n",
    "import math\n",
    "import torch\n",
    "import numpy as np\n",
    "\n",
    "os.chdir('../')\n",
    "\n",
    "import mmcv    \n",
    "from mmengine.config import Config, DictAction\n",
    "from mmengine.logging import print_log\n",
    "from mmengine.registry import RUNNERS\n",
    "from mmengine.runner import Runner\n",
    "from mmengine import fileio\n",
    "from mmdet3d.utils import replace_ceph_backend\n",
    "from mmengine.structures import InstanceData\n",
    "from mmdet.models.layers import inverse_sigmoid"
   ]
  },
  {
   "cell_type": "code",
   "execution_count": null,
   "metadata": {},
   "outputs": [],
   "source": [
    "# cfg = Config.fromfile('my_projects/CMT/configs/cmt_nus.py')\n",
    "cfg = Config.fromfile('my_projects/CMDT/configs/cmdt_coda.py')\n",
    "# cfg = Config.fromfile('my_projects/CMDT/configs/cmdt_coda_16lines.py')\n",
    "# cfg = Config.fromfile('my_projects/CMT/configs/cmt_coda.py')\n",
    "# cfg = Config.fromfile('my_projects/MVXNet/configs/mvxnet_coda.py')\n",
    "# cfg = Config.fromfile('my_projects/BEVFusion/configs/bevfusion_lidar_cam_coda.py')\n",
    "# cfg = Config.fromfile('my_projects/CenterPoint/configs/centerpoint_coda.py')\n",
    "cfg.work_dir = osp.abspath('./test/work_dirs')\n",
    "runner = Runner.from_cfg(cfg)\n",
    "# runner.load_checkpoint('ckpts/CMT/epoch_29.pth')"
   ]
  },
  {
   "cell_type": "code",
   "execution_count": null,
   "metadata": {},
   "outputs": [],
   "source": [
    "runner.model.eval()\n",
    "with torch.no_grad():\n",
    "    for data_batch in runner.val_dataloader:\n",
    "        data_batch = runner.model.data_preprocessor(data_batch, training=False)\n",
    "        if isinstance(data_batch, dict):\n",
    "            outputs = runner.model(**data_batch, mode='predict')\n",
    "        elif isinstance(data_batch, (list, tuple)):\n",
    "            outputs = runner.model(**data_batch, mode='predict')\n",
    "        else:\n",
    "            raise TypeError()\n",
    "        runner.val_evaluator.process(data_samples=outputs, data_batch=data_batch)\n",
    "        \n",
    "    metrics = runner.val_evaluator.evaluate(len(runner.val_dataloader.dataset))"
   ]
  },
  {
   "cell_type": "code",
   "execution_count": null,
   "metadata": {},
   "outputs": [],
   "source": [
    "runner.model.eval()\n",
    "for data_batch in runner.test_dataloader:\n",
    "    break\n",
    "data_batch = runner.model.data_preprocessor(data_batch, training=False)\n",
    "batch_inputs_dict = data_batch['inputs']\n",
    "batch_data_samples = data_batch['data_samples']\n",
    "imgs = batch_inputs_dict.get('imgs', None)\n",
    "points = batch_inputs_dict.get('points', None)\n",
    "img_metas = [item.metainfo for item in batch_data_samples]\n",
    "gt_bboxes_3d = [item.get('eval_ann_info')['gt_bboxes_3d'] for item in batch_data_samples]\n",
    "gt_labels_3d = [item.get('eval_ann_info')['gt_labels_3d'] for item in batch_data_samples]"
   ]
  },
  {
   "cell_type": "code",
   "execution_count": null,
   "metadata": {},
   "outputs": [],
   "source": [
    "# 训练过程\n",
    "runner.model.train()\n",
    "for data_batch in runner.train_dataloader:\n",
    "    data_batch = runner.model.data_preprocessor(data_batch, training=True)\n",
    "    if isinstance(data_batch, dict):\n",
    "        losses = runner.model(**data_batch, mode='loss')\n",
    "    elif isinstance(data_batch, (list, tuple)):\n",
    "        losses = runner.model(*data_batch, mode='loss')\n",
    "    else:\n",
    "        raise TypeError()\n",
    "    break"
   ]
  },
  {
   "cell_type": "code",
   "execution_count": null,
   "metadata": {},
   "outputs": [],
   "source": [
    "losses"
   ]
  },
  {
   "cell_type": "code",
   "execution_count": 3,
   "metadata": {},
   "outputs": [
    {
     "name": "stdout",
     "output_type": "stream",
     "text": [
      "02/03 12:08:05 - mmengine - \u001b[4m\u001b[97mINFO\u001b[0m - ------------------------------\n",
      "02/03 12:08:05 - mmengine - \u001b[4m\u001b[97mINFO\u001b[0m - The length of test dataset: 281\n",
      "02/03 12:08:05 - mmengine - \u001b[4m\u001b[97mINFO\u001b[0m - The number of instances per category in the dataset:\n",
      "+------------+--------+\n",
      "| category   | number |\n",
      "+------------+--------+\n",
      "| Car        | 479    |\n",
      "| Pedestrian | 2008   |\n",
      "| Cyclist    | 30     |\n",
      "+------------+--------+\n"
     ]
    },
    {
     "name": "stderr",
     "output_type": "stream",
     "text": [
      "/home/hello/anaconda3/envs/ros_perception/lib/python3.10/site-packages/torch/functional.py:504: UserWarning: torch.meshgrid: in an upcoming release, it will be required to pass the indexing argument. (Triggered internally at ../aten/src/ATen/native/TensorShape.cpp:3526.)\n",
      "  return _VF.meshgrid(tensors, **kwargs)  # type: ignore[attr-defined]\n",
      "/home/hello/code/git/3D_Perception/detection/my_projects/CMDT/cmdt/core/bbox_coder.py:139: UserWarning: To copy construct from a tensor, it is recommended to use sourceTensor.clone().detach() or sourceTensor.clone().detach().requires_grad_(True), rather than torch.tensor(sourceTensor).\n",
      "  self.post_center_range = torch.tensor(\n"
     ]
    }
   ],
   "source": [
    "# 验证过程\n",
    "runner.model.eval()\n",
    "with torch.no_grad():\n",
    "    for data_batch in runner.val_dataloader:\n",
    "        data_batch = runner.model.data_preprocessor(data_batch, training=False)\n",
    "        if isinstance(data_batch, dict):\n",
    "            outputs = runner.model(**data_batch, mode='predict')\n",
    "        elif isinstance(data_batch, (list, tuple)):\n",
    "            outputs = runner.model(**data_batch, mode='predict')\n",
    "        else:\n",
    "            raise TypeError()\n",
    "        runner.val_evaluator.process(data_samples=outputs, data_batch=data_batch)\n",
    "        break"
   ]
  },
  {
   "cell_type": "code",
   "execution_count": null,
   "metadata": {},
   "outputs": [],
   "source": [
    "pred = outputs[0].get('pred_instances_3d')\n",
    "pred['scores_3d'].shape, pred['labels_3d'].shape, pred['bboxes_3d'].shape"
   ]
  },
  {
   "cell_type": "code",
   "execution_count": null,
   "metadata": {},
   "outputs": [],
   "source": [
    "runner.model.train()\n",
    "with torch.no_grad():\n",
    "    data_batch = next(iter(runner.train_dataloader))\n",
    "    data_batch = runner.model.data_preprocessor(data_batch, training=True)\n",
    "    batch_inputs_dict = data_batch['inputs']\n",
    "    batch_data_samples = data_batch['data_samples']\n",
    "    imgs = batch_inputs_dict.get('imgs', None)\n",
    "    points = batch_inputs_dict.get('points', None)\n",
    "    img_metas = [item.metainfo for item in batch_data_samples]\n",
    "    gt_bboxes_3d = [item.get('gt_instances_3d')['bboxes_3d'] for item in batch_data_samples]\n",
    "    gt_labels_3d = [item.get('gt_instances_3d')['labels_3d'] for item in batch_data_samples]\n",
    "    \n",
    "    img_feats, pts_feats = runner.model.extract_feat(points, imgs=imgs, img_metas=img_metas)\n",
    "    outs = runner.model.pts_bbox_head(pts_feats, img_feats, img_metas)"
   ]
  },
  {
   "cell_type": "code",
   "execution_count": null,
   "metadata": {},
   "outputs": [],
   "source": [
    "outs['dn_mask_dict']"
   ]
  },
  {
   "cell_type": "code",
   "execution_count": null,
   "metadata": {},
   "outputs": [],
   "source": [
    "runner.model.eval()\n",
    "with torch.no_grad():\n",
    "    data_batch = next(iter(runner.val_dataloader))\n",
    "    data_batch = runner.model.data_preprocessor(data_batch, training=False)\n",
    "    batch_inputs_dict = data_batch['inputs']\n",
    "    batch_data_samples = data_batch['data_samples']\n",
    "    imgs = batch_inputs_dict.get('imgs', None)\n",
    "    points = batch_inputs_dict.get('points', None)\n",
    "    img_metas = [item.metainfo for item in batch_data_samples]\n",
    "    gt_bboxes_3d = [item.get('eval_ann_info')['gt_bboxes_3d'] for item in batch_data_samples]\n",
    "    gt_labels_3d = [item.get('eval_ann_info')['gt_labels_3d'] for item in batch_data_samples]\n",
    "    \n",
    "    img_feats, pts_feats = runner.model.extract_feat(points, imgs=imgs, img_metas=img_metas)\n",
    "    outs = runner.model.pts_bbox_head(pts_feats, img_feats, img_metas)"
   ]
  },
  {
   "cell_type": "code",
   "execution_count": null,
   "metadata": {},
   "outputs": [],
   "source": [
    "class_names = ['Car', 'Pedestrian', 'Cyclist']\n",
    "dist_thresh = [0.15, 0.25, 0.5, 1.0]\n",
    "pred_scores_list = [[]] * len(class_names)\n",
    "is_tp_list = [[[]] * len(dist_thresh)] * len(class_names)"
   ]
  },
  {
   "cell_type": "code",
   "execution_count": null,
   "metadata": {},
   "outputs": [],
   "source": [
    "# 计算mAP和AR\n",
    "class_names = ['Car', 'Pedestrian', 'Cyclist']\n",
    "dist_thresh = [0.15, 0.25, 0.5, 1.0]\n",
    "pred_scores_list = [[] for _ in range(len(class_names))]\n",
    "is_tp_list = [[[] for _ in range(len(dist_thresh))] for _ in range(len(class_names))]\n",
    "num_gt = [0 for _ in range(len(class_names))]\n",
    "count = 0\n",
    "runner.model.eval()\n",
    "\n",
    "with torch.no_grad():\n",
    "    for data_batch in runner.test_dataloader:\n",
    "        data_batch = runner.model.data_preprocessor(data_batch, training=False)\n",
    "        if isinstance(data_batch, dict):\n",
    "            outputs = runner.model(**data_batch, mode='predict')\n",
    "        elif isinstance(data_batch, (list, tuple)):\n",
    "            outputs = runner.model(**data_batch, mode='predict')\n",
    "        else:\n",
    "            raise TypeError()\n",
    "        for i in range(len(outputs)):\n",
    "            pred_bboxes = outputs[i].get('pred_instances_3d')['bboxes_3d'].tensor\n",
    "            pred_labels = outputs[i].get('pred_instances_3d')['labels_3d']\n",
    "            pred_scores = outputs[i].get('pred_instances_3d')['scores_3d']\n",
    "            gt_bboxes = data_batch['data_samples'][i].get('eval_ann_info')['gt_bboxes_3d'].tensor\n",
    "            gt_labels = data_batch['data_samples'][i].get('eval_ann_info')['gt_labels_3d']\n",
    "            for c in range(len(class_names)):\n",
    "                gt_bboxes_c = gt_bboxes[gt_labels == c]\n",
    "                if len(gt_bboxes_c) == 0:\n",
    "                    continue\n",
    "                pred_bboxes_c = pred_bboxes[pred_labels == c]\n",
    "                pred_scores_c = pred_scores[pred_labels == c]\n",
    "                dist_matrix = torch.cdist(pred_bboxes_c[:, :3], gt_bboxes_c[:, :3]).repeat(len(dist_thresh), 1).reshape(len(dist_thresh), len(pred_bboxes_c), len(gt_bboxes_c))\n",
    "                is_tp = torch.zeros(len(dist_thresh), len(pred_bboxes_c))\n",
    "                for j in range(len(dist_thresh)):\n",
    "                    for k in range(len(pred_bboxes_c)):\n",
    "                        if dist_matrix[j][k].min() < dist_thresh[j]:\n",
    "                            is_tp[j][k] = 1\n",
    "                            dist_matrix[j][:, dist_matrix[j][k].argmin()] = 1000\n",
    "                for j in range(len(dist_thresh)):\n",
    "                    is_tp_list[c][j].append(is_tp[j])\n",
    "                pred_scores_list[c].append(pred_scores_c)\n",
    "                num_gt[c] += len(gt_bboxes_c)\n",
    "        count += 1\n",
    "        if count % 100 == 0:\n",
    "            print(count)"
   ]
  },
  {
   "cell_type": "code",
   "execution_count": null,
   "metadata": {},
   "outputs": [],
   "source": [
    "all_class_ap = []\n",
    "all_class_cum_precision = []\n",
    "all_class_cum_recall = []\n",
    "for c in range(len(class_names)):\n",
    "    pred_scores = torch.cat(pred_scores_list[c], dim=0)\n",
    "    cum_precision_list = []\n",
    "    cum_recall_list = []\n",
    "    ap_list = []\n",
    "    _, sort_idx = pred_scores.sort(descending=True)\n",
    "    print('sum of preds:', len(pred_scores))\n",
    "\n",
    "    for i in range(len(dist_thresh)):\n",
    "        is_tp = torch.cat(is_tp_list[c][i], dim=0)\n",
    "        is_tp = is_tp[sort_idx]\n",
    "        cum_tp = torch.cumsum(is_tp, dim=0)\n",
    "        cum_precision = cum_tp / torch.arange(1, len(pred_scores) + 1)\n",
    "        cum_recall = cum_tp / num_gt[c]\n",
    "        \n",
    "        max_precision = torch.zeros_like(cum_precision)\n",
    "        max_precision[-1] = cum_precision[-1]\n",
    "        for j in range(len(pred_scores) - 2, -1, -1):\n",
    "            max_precision[j] = torch.max(max_precision[j+1], cum_precision[j])\n",
    "        \n",
    "        div = []\n",
    "        for j in range(len(pred_scores)):\n",
    "            if j == 0 or pred_scores[j] != pred_scores[j-1]:\n",
    "                div.append(j)\n",
    "\n",
    "        ap = 0\n",
    "        for j in div:\n",
    "            if cum_recall[j] > 0.1:\n",
    "                if j == 0:\n",
    "                    ap += max_precision[j] * cum_recall[j]\n",
    "                else:\n",
    "                    ap += max_precision[j] * (cum_recall[j] - cum_recall[j-1])\n",
    "\n",
    "        ap_list.append(ap)\n",
    "        cum_precision_list.append(cum_precision)\n",
    "        cum_recall_list.append(cum_recall)\n",
    "        print('class:', class_names[c], 'dist_thresh:', dist_thresh[i], 'ap:', ap)\n",
    "        \n",
    "    all_class_ap.append(ap_list)\n",
    "    all_class_cum_precision.append(cum_precision_list)\n",
    "    all_class_cum_recall.append(cum_recall_list)"
   ]
  },
  {
   "cell_type": "code",
   "execution_count": null,
   "metadata": {},
   "outputs": [],
   "source": []
  }
 ],
 "metadata": {
  "kernelspec": {
   "display_name": "ros_perception",
   "language": "python",
   "name": "python3"
  },
  "language_info": {
   "codemirror_mode": {
    "name": "ipython",
    "version": 3
   },
   "file_extension": ".py",
   "mimetype": "text/x-python",
   "name": "python",
   "nbconvert_exporter": "python",
   "pygments_lexer": "ipython3",
   "version": "3.10.15"
  }
 },
 "nbformat": 4,
 "nbformat_minor": 2
}
